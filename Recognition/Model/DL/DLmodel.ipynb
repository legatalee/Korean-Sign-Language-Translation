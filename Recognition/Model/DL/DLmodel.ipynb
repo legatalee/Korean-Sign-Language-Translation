{
  "cells": [
    {
      "cell_type": "markdown",
      "metadata": {
        "id": "EhsrVYlQxUeH"
      },
      "source": [
        "# End-to-End MLFlow Pipeline:\n",
        "- [Databricks Link](https://jixjiastorage.blob.core.windows.net/blog-resources/end-to-end-dl-with-mlflow/End-to-End%20Deep%20Learning%20with%20MLflow%20(EN).html)"
      ]
    },
    {
      "cell_type": "markdown",
      "metadata": {
        "id": "CbaWc5N_zzCu"
      },
      "source": [
        "### 한글 폰트 다운로드/설정"
      ]
    },
    {
      "cell_type": "code",
      "execution_count": null,
      "metadata": {
        "colab": {
          "base_uri": "https://localhost:8080/"
        },
        "id": "9rnk73WbGQeS",
        "outputId": "cfc86f36-ce02-4c91-90d5-1c159beda2fb"
      },
      "outputs": [
        {
          "output_type": "stream",
          "name": "stdout",
          "text": [
            "Reading package lists... Done\n",
            "Building dependency tree       \n",
            "Reading state information... Done\n",
            "The following NEW packages will be installed:\n",
            "  fonts-nanum\n",
            "0 upgraded, 1 newly installed, 0 to remove and 23 not upgraded.\n",
            "Need to get 9,599 kB of archives.\n",
            "After this operation, 29.6 MB of additional disk space will be used.\n",
            "Get:1 http://archive.ubuntu.com/ubuntu focal/universe amd64 fonts-nanum all 20180306-3 [9,599 kB]\n",
            "Fetched 9,599 kB in 2s (6,106 kB/s)\n",
            "debconf: unable to initialize frontend: Dialog\n",
            "debconf: (No usable dialog-like program is installed, so the dialog based frontend cannot be used. at /usr/share/perl5/Debconf/FrontEnd/Dialog.pm line 76, <> line 1.)\n",
            "debconf: falling back to frontend: Readline\n",
            "debconf: unable to initialize frontend: Readline\n",
            "debconf: (This frontend requires a controlling tty.)\n",
            "debconf: falling back to frontend: Teletype\n",
            "dpkg-preconfigure: unable to re-open stdin: \n",
            "Selecting previously unselected package fonts-nanum.\n",
            "(Reading database ... 128288 files and directories currently installed.)\n",
            "Preparing to unpack .../fonts-nanum_20180306-3_all.deb ...\n",
            "Unpacking fonts-nanum (20180306-3) ...\n",
            "Setting up fonts-nanum (20180306-3) ...\n",
            "Processing triggers for fontconfig (2.13.1-2ubuntu3) ...\n",
            "/usr/share/fonts: caching, new cache contents: 0 fonts, 1 dirs\n",
            "/usr/share/fonts/truetype: caching, new cache contents: 0 fonts, 3 dirs\n",
            "/usr/share/fonts/truetype/humor-sans: caching, new cache contents: 1 fonts, 0 dirs\n",
            "/usr/share/fonts/truetype/liberation: caching, new cache contents: 16 fonts, 0 dirs\n",
            "/usr/share/fonts/truetype/nanum: caching, new cache contents: 10 fonts, 0 dirs\n",
            "/usr/local/share/fonts: caching, new cache contents: 0 fonts, 0 dirs\n",
            "/root/.local/share/fonts: skipping, no such directory\n",
            "/root/.fonts: skipping, no such directory\n",
            "/usr/share/fonts/truetype: skipping, looped directory detected\n",
            "/usr/share/fonts/truetype/humor-sans: skipping, looped directory detected\n",
            "/usr/share/fonts/truetype/liberation: skipping, looped directory detected\n",
            "/usr/share/fonts/truetype/nanum: skipping, looped directory detected\n",
            "/var/cache/fontconfig: cleaning cache directory\n",
            "/root/.cache/fontconfig: not cleaning non-existent cache directory\n",
            "/root/.fontconfig: not cleaning non-existent cache directory\n",
            "fc-cache: succeeded\n"
          ]
        }
      ],
      "source": [
        "!sudo apt-get install -y fonts-nanum\n",
        "!sudo fc-cache -fv\n",
        "!rm ~/.cache/matplotlib -rf"
      ]
    },
    {
      "cell_type": "markdown",
      "metadata": {
        "id": "h9vprs6uz_5h"
      },
      "source": [
        "### MLFlow설치와 Databricks Tracking Server 설정"
      ]
    },
    {
      "cell_type": "code",
      "execution_count": null,
      "metadata": {
        "colab": {
          "base_uri": "https://localhost:8080/"
        },
        "id": "oNbGlefJmn17",
        "outputId": "0b205e22-6952-4d79-e595-a83e4e75bfe7"
      },
      "outputs": [
        {
          "output_type": "stream",
          "name": "stdout",
          "text": [
            "Looking in indexes: https://pypi.org/simple, https://us-python.pkg.dev/colab-wheels/public/simple/\n",
            "Collecting mlflow\n",
            "  Downloading mlflow-2.2.2-py3-none-any.whl (17.6 MB)\n",
            "\u001b[2K     \u001b[90m━━━━━━━━━━━━━━━━━━━━━━━━━━━━━━━━━━━━━━━━\u001b[0m \u001b[32m17.6/17.6 MB\u001b[0m \u001b[31m57.3 MB/s\u001b[0m eta \u001b[36m0:00:00\u001b[0m\n",
            "\u001b[?25hRequirement already satisfied: markdown<4,>=3.3 in /usr/local/lib/python3.9/dist-packages (from mlflow) (3.4.3)\n",
            "Collecting docker<7,>=4.0.0\n",
            "  Downloading docker-6.0.1-py3-none-any.whl (147 kB)\n",
            "\u001b[2K     \u001b[90m━━━━━━━━━━━━━━━━━━━━━━━━━━━━━━━━━━━━━━\u001b[0m \u001b[32m147.5/147.5 KB\u001b[0m \u001b[31m11.7 MB/s\u001b[0m eta \u001b[36m0:00:00\u001b[0m\n",
            "\u001b[?25hRequirement already satisfied: protobuf<5,>=3.12.0 in /usr/local/lib/python3.9/dist-packages (from mlflow) (3.20.3)\n",
            "Requirement already satisfied: requests<3,>=2.17.3 in /usr/local/lib/python3.9/dist-packages (from mlflow) (2.27.1)\n",
            "Requirement already satisfied: scikit-learn<2 in /usr/local/lib/python3.9/dist-packages (from mlflow) (1.2.2)\n",
            "Requirement already satisfied: packaging<24 in /usr/local/lib/python3.9/dist-packages (from mlflow) (23.0)\n",
            "Collecting gunicorn<21\n",
            "  Downloading gunicorn-20.1.0-py3-none-any.whl (79 kB)\n",
            "\u001b[2K     \u001b[90m━━━━━━━━━━━━━━━━━━━━━━━━━━━━━━━━━━━━━━━━\u001b[0m \u001b[32m79.5/79.5 KB\u001b[0m \u001b[31m10.3 MB/s\u001b[0m eta \u001b[36m0:00:00\u001b[0m\n",
            "\u001b[?25hRequirement already satisfied: sqlalchemy<3,>=1.4.0 in /usr/local/lib/python3.9/dist-packages (from mlflow) (1.4.47)\n",
            "Collecting shap<1,>=0.40\n",
            "  Downloading shap-0.41.0-cp39-cp39-manylinux_2_12_x86_64.manylinux2010_x86_64.whl (572 kB)\n",
            "\u001b[2K     \u001b[90m━━━━━━━━━━━━━━━━━━━━━━━━━━━━━━━━━━━━━━\u001b[0m \u001b[32m572.4/572.4 KB\u001b[0m \u001b[31m46.6 MB/s\u001b[0m eta \u001b[36m0:00:00\u001b[0m\n",
            "\u001b[?25hRequirement already satisfied: pyarrow<12,>=4.0.0 in /usr/local/lib/python3.9/dist-packages (from mlflow) (9.0.0)\n",
            "Collecting databricks-cli<1,>=0.8.7\n",
            "  Downloading databricks-cli-0.17.6.tar.gz (82 kB)\n",
            "\u001b[2K     \u001b[90m━━━━━━━━━━━━━━━━━━━━━━━━━━━━━━━━━━━━━━━━\u001b[0m \u001b[32m82.7/82.7 KB\u001b[0m \u001b[31m9.8 MB/s\u001b[0m eta \u001b[36m0:00:00\u001b[0m\n",
            "\u001b[?25h  Preparing metadata (setup.py) ... \u001b[?25l\u001b[?25hdone\n",
            "Requirement already satisfied: cloudpickle<3 in /usr/local/lib/python3.9/dist-packages (from mlflow) (2.2.1)\n",
            "Requirement already satisfied: numpy<2 in /usr/local/lib/python3.9/dist-packages (from mlflow) (1.24.2)\n",
            "Collecting querystring-parser<2\n",
            "  Downloading querystring_parser-1.2.4-py2.py3-none-any.whl (7.9 kB)\n",
            "Requirement already satisfied: matplotlib<4 in /usr/local/lib/python3.9/dist-packages (from mlflow) (3.7.1)\n",
            "Requirement already satisfied: click<9,>=7.0 in /usr/local/lib/python3.9/dist-packages (from mlflow) (8.1.3)\n",
            "Requirement already satisfied: Jinja2<4,>=2.11 in /usr/local/lib/python3.9/dist-packages (from mlflow) (3.1.2)\n",
            "Requirement already satisfied: importlib-metadata!=4.7.0,<7,>=3.7.0 in /usr/local/lib/python3.9/dist-packages (from mlflow) (6.1.0)\n",
            "Requirement already satisfied: pandas<3 in /usr/local/lib/python3.9/dist-packages (from mlflow) (1.4.4)\n",
            "Collecting gitpython<4,>=2.1.0\n",
            "  Downloading GitPython-3.1.31-py3-none-any.whl (184 kB)\n",
            "\u001b[2K     \u001b[90m━━━━━━━━━━━━━━━━━━━━━━━━━━━━━━━━━━━━━━\u001b[0m \u001b[32m184.3/184.3 KB\u001b[0m \u001b[31m16.4 MB/s\u001b[0m eta \u001b[36m0:00:00\u001b[0m\n",
            "\u001b[?25hRequirement already satisfied: sqlparse<1,>=0.4.0 in /usr/local/lib/python3.9/dist-packages (from mlflow) (0.4.3)\n",
            "Requirement already satisfied: pyyaml<7,>=5.1 in /usr/local/lib/python3.9/dist-packages (from mlflow) (6.0)\n",
            "Collecting alembic<2\n",
            "  Downloading alembic-1.10.2-py3-none-any.whl (212 kB)\n",
            "\u001b[2K     \u001b[90m━━━━━━━━━━━━━━━━━━━━━━━━━━━━━━━━━━━━━━\u001b[0m \u001b[32m212.2/212.2 KB\u001b[0m \u001b[31m24.6 MB/s\u001b[0m eta \u001b[36m0:00:00\u001b[0m\n",
            "\u001b[?25hRequirement already satisfied: scipy<2 in /usr/local/lib/python3.9/dist-packages (from mlflow) (1.10.1)\n",
            "Requirement already satisfied: pytz<2023 in /usr/local/lib/python3.9/dist-packages (from mlflow) (2022.7.1)\n",
            "Requirement already satisfied: Flask<3 in /usr/local/lib/python3.9/dist-packages (from mlflow) (2.2.3)\n",
            "Requirement already satisfied: entrypoints<1 in /usr/local/lib/python3.9/dist-packages (from mlflow) (0.4)\n",
            "Requirement already satisfied: typing-extensions>=4 in /usr/local/lib/python3.9/dist-packages (from alembic<2->mlflow) (4.5.0)\n",
            "Collecting Mako\n",
            "  Downloading Mako-1.2.4-py3-none-any.whl (78 kB)\n",
            "\u001b[2K     \u001b[90m━━━━━━━━━━━━━━━━━━━━━━━━━━━━━━━━━━━━━━━━\u001b[0m \u001b[32m78.7/78.7 KB\u001b[0m \u001b[31m10.5 MB/s\u001b[0m eta \u001b[36m0:00:00\u001b[0m\n",
            "\u001b[?25hCollecting pyjwt>=1.7.0\n",
            "  Downloading PyJWT-2.6.0-py3-none-any.whl (20 kB)\n",
            "Requirement already satisfied: oauthlib>=3.1.0 in /usr/local/lib/python3.9/dist-packages (from databricks-cli<1,>=0.8.7->mlflow) (3.2.2)\n",
            "Requirement already satisfied: tabulate>=0.7.7 in /usr/local/lib/python3.9/dist-packages (from databricks-cli<1,>=0.8.7->mlflow) (0.8.10)\n",
            "Requirement already satisfied: six>=1.10.0 in /usr/local/lib/python3.9/dist-packages (from databricks-cli<1,>=0.8.7->mlflow) (1.16.0)\n",
            "Collecting websocket-client>=0.32.0\n",
            "  Downloading websocket_client-1.5.1-py3-none-any.whl (55 kB)\n",
            "\u001b[2K     \u001b[90m━━━━━━━━━━━━━━━━━━━━━━━━━━━━━━━━━━━━━━━━\u001b[0m \u001b[32m55.9/55.9 KB\u001b[0m \u001b[31m7.2 MB/s\u001b[0m eta \u001b[36m0:00:00\u001b[0m\n",
            "\u001b[?25hRequirement already satisfied: urllib3>=1.26.0 in /usr/local/lib/python3.9/dist-packages (from docker<7,>=4.0.0->mlflow) (1.26.15)\n",
            "Requirement already satisfied: itsdangerous>=2.0 in /usr/local/lib/python3.9/dist-packages (from Flask<3->mlflow) (2.1.2)\n",
            "Requirement already satisfied: Werkzeug>=2.2.2 in /usr/local/lib/python3.9/dist-packages (from Flask<3->mlflow) (2.2.3)\n",
            "Collecting gitdb<5,>=4.0.1\n",
            "  Downloading gitdb-4.0.10-py3-none-any.whl (62 kB)\n",
            "\u001b[2K     \u001b[90m━━━━━━━━━━━━━━━━━━━━━━━━━━━━━━━━━━━━━━━━\u001b[0m \u001b[32m62.7/62.7 KB\u001b[0m \u001b[31m5.6 MB/s\u001b[0m eta \u001b[36m0:00:00\u001b[0m\n",
            "\u001b[?25hRequirement already satisfied: setuptools>=3.0 in /usr/local/lib/python3.9/dist-packages (from gunicorn<21->mlflow) (67.6.1)\n",
            "Requirement already satisfied: zipp>=0.5 in /usr/local/lib/python3.9/dist-packages (from importlib-metadata!=4.7.0,<7,>=3.7.0->mlflow) (3.15.0)\n",
            "Requirement already satisfied: MarkupSafe>=2.0 in /usr/local/lib/python3.9/dist-packages (from Jinja2<4,>=2.11->mlflow) (2.1.2)\n",
            "Requirement already satisfied: fonttools>=4.22.0 in /usr/local/lib/python3.9/dist-packages (from matplotlib<4->mlflow) (4.39.3)\n",
            "Requirement already satisfied: pillow>=6.2.0 in /usr/local/lib/python3.9/dist-packages (from matplotlib<4->mlflow) (8.4.0)\n",
            "Requirement already satisfied: kiwisolver>=1.0.1 in /usr/local/lib/python3.9/dist-packages (from matplotlib<4->mlflow) (1.4.4)\n",
            "Requirement already satisfied: pyparsing>=2.3.1 in /usr/local/lib/python3.9/dist-packages (from matplotlib<4->mlflow) (3.0.9)\n",
            "Requirement already satisfied: contourpy>=1.0.1 in /usr/local/lib/python3.9/dist-packages (from matplotlib<4->mlflow) (1.0.7)\n",
            "Requirement already satisfied: importlib-resources>=3.2.0 in /usr/local/lib/python3.9/dist-packages (from matplotlib<4->mlflow) (5.12.0)\n",
            "Requirement already satisfied: cycler>=0.10 in /usr/local/lib/python3.9/dist-packages (from matplotlib<4->mlflow) (0.11.0)\n",
            "Requirement already satisfied: python-dateutil>=2.7 in /usr/local/lib/python3.9/dist-packages (from matplotlib<4->mlflow) (2.8.2)\n",
            "Requirement already satisfied: idna<4,>=2.5 in /usr/local/lib/python3.9/dist-packages (from requests<3,>=2.17.3->mlflow) (3.4)\n",
            "Requirement already satisfied: charset-normalizer~=2.0.0 in /usr/local/lib/python3.9/dist-packages (from requests<3,>=2.17.3->mlflow) (2.0.12)\n",
            "Requirement already satisfied: certifi>=2017.4.17 in /usr/local/lib/python3.9/dist-packages (from requests<3,>=2.17.3->mlflow) (2022.12.7)\n",
            "Requirement already satisfied: threadpoolctl>=2.0.0 in /usr/local/lib/python3.9/dist-packages (from scikit-learn<2->mlflow) (3.1.0)\n",
            "Requirement already satisfied: joblib>=1.1.1 in /usr/local/lib/python3.9/dist-packages (from scikit-learn<2->mlflow) (1.1.1)\n",
            "Collecting slicer==0.0.7\n",
            "  Downloading slicer-0.0.7-py3-none-any.whl (14 kB)\n",
            "Requirement already satisfied: numba in /usr/local/lib/python3.9/dist-packages (from shap<1,>=0.40->mlflow) (0.56.4)\n",
            "Requirement already satisfied: tqdm>4.25.0 in /usr/local/lib/python3.9/dist-packages (from shap<1,>=0.40->mlflow) (4.65.0)\n",
            "Requirement already satisfied: greenlet!=0.4.17 in /usr/local/lib/python3.9/dist-packages (from sqlalchemy<3,>=1.4.0->mlflow) (2.0.2)\n",
            "Collecting smmap<6,>=3.0.1\n",
            "  Downloading smmap-5.0.0-py3-none-any.whl (24 kB)\n",
            "Requirement already satisfied: llvmlite<0.40,>=0.39.0dev0 in /usr/local/lib/python3.9/dist-packages (from numba->shap<1,>=0.40->mlflow) (0.39.1)\n",
            "Collecting numpy<2\n",
            "  Downloading numpy-1.23.5-cp39-cp39-manylinux_2_17_x86_64.manylinux2014_x86_64.whl (17.1 MB)\n",
            "\u001b[2K     \u001b[90m━━━━━━━━━━━━━━━━━━━━━━━━━━━━━━━━━━━━━━━━\u001b[0m \u001b[32m17.1/17.1 MB\u001b[0m \u001b[31m44.9 MB/s\u001b[0m eta \u001b[36m0:00:00\u001b[0m\n",
            "\u001b[?25hBuilding wheels for collected packages: databricks-cli\n",
            "  Building wheel for databricks-cli (setup.py) ... \u001b[?25l\u001b[?25hdone\n",
            "  Created wheel for databricks-cli: filename=databricks_cli-0.17.6-py3-none-any.whl size=143237 sha256=7af47e6e80b9421c03ade4ef5b07deb7b3842b67f29324809d3374bc4d3f6e74\n",
            "  Stored in directory: /root/.cache/pip/wheels/06/d9/cb/1cdc0826334cb600957db0b5a8448db02a8995daeab2556745\n",
            "Successfully built databricks-cli\n",
            "Installing collected packages: websocket-client, smmap, slicer, querystring-parser, pyjwt, numpy, Mako, gunicorn, gitdb, docker, databricks-cli, alembic, gitpython, shap, mlflow\n",
            "  Attempting uninstall: numpy\n",
            "    Found existing installation: numpy 1.24.2\n",
            "    Uninstalling numpy-1.24.2:\n",
            "      Successfully uninstalled numpy-1.24.2\n",
            "\u001b[31mERROR: pip's dependency resolver does not currently take into account all the packages that are installed. This behaviour is the source of the following dependency conflicts.\n",
            "orbax 0.1.6 requires jax>=0.4.6, but you have jax 0.3.25 which is incompatible.\n",
            "flax 0.6.8 requires jax>=0.4.2, but you have jax 0.3.25 which is incompatible.\n",
            "chex 0.1.7 requires jax>=0.4.6, but you have jax 0.3.25 which is incompatible.\u001b[0m\u001b[31m\n",
            "\u001b[0mSuccessfully installed Mako-1.2.4 alembic-1.10.2 databricks-cli-0.17.6 docker-6.0.1 gitdb-4.0.10 gitpython-3.1.31 gunicorn-20.1.0 mlflow-2.2.2 numpy-1.23.5 pyjwt-2.6.0 querystring-parser-1.2.4 shap-0.41.0 slicer-0.0.7 smmap-5.0.0 websocket-client-1.5.1\n",
            "Username: legume.dater0t@icloud.com\n",
            "Password: \n",
            "Repeat for confirmation: \n"
          ]
        }
      ],
      "source": [
        "!pip install mlflow\n",
        "!databricks configure --host https://community.cloud.databricks.com/"
      ]
    },
    {
      "cell_type": "code",
      "execution_count": null,
      "metadata": {
        "id": "Uw8w0cvGzLjd"
      },
      "outputs": [],
      "source": [
        "import tensorflow as tf\n",
        "from tensorflow import keras\n",
        "\n",
        "from tensorflow.keras.models import Sequential\n",
        "from tensorflow.keras.layers import LSTM, Dense, Dropout, Flatten, Reshape, InputLayer\n",
        "from tensorflow.keras.callbacks import TensorBoard\n",
        "from tensorflow.keras.utils import to_categorical\n",
        "from sklearn.model_selection import train_test_split\n",
        "from sklearn.metrics import classification_report, confusion_matrix, ConfusionMatrixDisplay\n",
        "\n",
        "import mlflow\n",
        "from mlflow.exceptions import MlflowException\n",
        "from mlflow.tracking import MlflowClient\n",
        "from mlflow.keras import log_model\n",
        "\n",
        "import os\n",
        "import glob\n",
        "import numpy as np\n",
        "import cv2\n",
        "import pickle\n",
        "import pandas as pd\n",
        "from tqdm.notebook import tqdm\n",
        "import matplotlib.pyplot as plt\n",
        "\n",
        "import matplotlib.pyplot as plt\n",
        "\n",
        "plt.rc('font', family='NanumBarunGothic') \n",
        "\n",
        "from google.colab import drive\n"
      ]
    },
    {
      "cell_type": "code",
      "execution_count": null,
      "metadata": {
        "colab": {
          "base_uri": "https://localhost:8080/"
        },
        "id": "C--jUv2sy5CM",
        "outputId": "47ad748c-c513-4ae5-aee7-3ff9e56e9cf9"
      },
      "outputs": [
        {
          "output_type": "stream",
          "name": "stdout",
          "text": [
            "Mounted at /content/drive\n"
          ]
        }
      ],
      "source": [
        "drive.mount('/content/drive')"
      ]
    },
    {
      "cell_type": "code",
      "execution_count": null,
      "metadata": {
        "colab": {
          "base_uri": "https://localhost:8080/"
        },
        "id": "ePSxaHmMmqkm",
        "outputId": "f5864ae6-69a4-4722-d0f5-1282d4b17b7f"
      },
      "outputs": [
        {
          "output_type": "execute_result",
          "data": {
            "text/plain": [
              "<Experiment: artifact_location='dbfs:/databricks/mlflow-tracking/1948595066832280', creation_time=1679879137929, experiment_id='1948595066832280', last_update_time=1680174746631, lifecycle_stage='active', name='/Users/legume.dater0t@icloud.com/sign_lang', tags={'mlflow.experiment.sourceName': '/Users/legume.dater0t@icloud.com/sign_lang',\n",
              " 'mlflow.experimentType': 'MLFLOW_EXPERIMENT',\n",
              " 'mlflow.ownerEmail': 'legume.dater0t@icloud.com',\n",
              " 'mlflow.ownerId': '8740233206362604'}>"
            ]
          },
          "metadata": {},
          "execution_count": 4
        }
      ],
      "source": [
        "mlflow.set_tracking_uri(\"databricks\")\n",
        "mlflow.set_experiment(\"/Users/legume.dater0t@icloud.com/sign_lang\")"
      ]
    },
    {
      "cell_type": "code",
      "execution_count": null,
      "metadata": {
        "id": "gN78rMkDzP7X"
      },
      "outputs": [],
      "source": [
        "# train loss 그리는 함수\n",
        "def view_loss(history):\n",
        "    plt.clf()\n",
        "    plt.semilogy(history.history['loss'], label=\"train_loss\")\n",
        "    plt.title('model loss(train)')\n",
        "    plt.ylabel('loss')\n",
        "    plt.xlabel('epoch')\n",
        "    plt.legend()\n",
        "    return plt\n",
        "\n",
        "# confusion matrix 그리는 함수\n",
        "def view_conf_mat(conf):\n",
        "\n",
        "    fig, ax = plt.subplots(1, 1, figsize=(20, 20))\n",
        "\n",
        "    ConfusionMatrixDisplay(conf, display_labels=labels).plot(ax=ax)\n",
        "    \n",
        "    return fig"
      ]
    },
    {
      "cell_type": "code",
      "execution_count": null,
      "metadata": {
        "id": "qaK-de6Dxrf9"
      },
      "outputs": [],
      "source": [
        "def train_with_mlflow(run_name, model, compile_kwargs, fit_kwargs, optional_params={}):\n",
        "    with mlflow.start_run(run_name=run_name) as run:\n",
        "        model.compile(**compile_kwargs)\n",
        "\n",
        "        history = model.fit(**fit_kwargs)\n",
        "\n",
        "        print(\"Logging parameters\")\n",
        "        ## MLFlow tracking\n",
        "        for param_key, param_value in {**compile_kwargs, **fit_kwargs, **optional_params}.items():\n",
        "            if param_key not in ['x', 'y', 'validation_data', 'test_data']:\n",
        "                print(f'logging {param_key}')\n",
        "                mlflow.log_param(param_key, param_value)\n",
        "\n",
        "        print(\"Logging metrics\")\n",
        "        for key, values in history.history.items():\n",
        "            print(f'logging {key}')\n",
        "            for i, v in enumerate(values):\n",
        "                mlflow.log_metric(key, v, step=i)\n",
        "\n",
        "        # Sketch Loss\n",
        "        fig = view_loss(history)\n",
        "\n",
        "        fig.savefig('train_validation_loss.png')\n",
        "        mlflow.log_artifact('train_validation_loss.png')\n",
        "\n",
        "        print('Logging test eval data')\n",
        "        if optional_params:\n",
        "            X_test = optional_params['test_data'][0]\n",
        "            y_test = optional_params['test_data'][1]\n",
        "\n",
        "            y_pred = model.predict(X_test)\n",
        "            y_pred = np.argmax(y_pred, axis=1)\n",
        "\n",
        "            y_expected = np.argmax(y_test, axis=1)\n",
        "\n",
        "            report = classification_report(\n",
        "                y_expected,\n",
        "                y_pred,\n",
        "                output_dict=False,\n",
        "                target_names=labels\n",
        "            )\n",
        "            with open('report.txt', 'w') as f:\n",
        "                f.write(report)\n",
        "            mlflow.log_artifact('report.txt')\n",
        "\n",
        "            y_expected_label = [labels[i] for i in y_expected]\n",
        "            y_pred_label = [labels[i] for i in y_pred]\n",
        "\n",
        "            conf_mat = confusion_matrix(\n",
        "                y_expected_label, \n",
        "                y_pred_label,\n",
        "                labels=labels)\n",
        "            \n",
        "            plt = view_conf_mat(conf_mat)\n",
        "            plt.savefig('confusion.png')\n",
        "            mlflow.log_artifact('confusion.png')\n",
        "\n",
        "        # save model and reload model\n",
        "        print(\"Logging model\")\n",
        "\n",
        "        model.save_weights('model_weights.h5', overwrite=True)\n",
        "\n",
        "        model = create_model()\n",
        "\n",
        "        model.load_weights('model_weights.h5')\n",
        "        \n",
        "        mlflow.log_artifact('model_weights.h5')\n",
        "        # log_model(model, 'keras_model')\n",
        "\n",
        "        return run\n",
        "\n"
      ]
    },
    {
      "cell_type": "markdown",
      "metadata": {
        "id": "IYbovykm1WMW"
      },
      "source": [
        "## 데이터 불러오기 / Train, val, test 데이터 설정"
      ]
    },
    {
      "cell_type": "code",
      "execution_count": null,
      "metadata": {
        "id": "uMl6LD-c0csM"
      },
      "outputs": [],
      "source": [
        "def data_call(AUG_NUM, FRAME_NUM, JITTER=None):\n",
        "    # if JITTER:\n",
        "    #     X = np.load(f'/content/drive/MyDrive/수어 영상 데이터/final_X_{AUG_NUM}_f{FRAME_NUM}_jit{JITTER}.npy')\n",
        "    #     y = np.load(f'/content/drive/MyDrive/수어 영상 데이터/final_y_{AUG_NUM}_f{FRAME_NUM}_jit{JITTER}.npy')\n",
        "    # else:\n",
        "    #     X = np.load(f'/content/drive/MyDrive/수어 영상 데이터/final_X_{AUG_NUM}_f{FRAME_NUM}.npy')\n",
        "    #     y = np.load(f'/content/drive/MyDrive/수어 영상 데이터/final_y_{AUG_NUM}_f{FRAME_NUM}.npy')\n",
        "\n",
        "    # set the common part of the file names\n",
        "    print('Loading Data...')\n",
        "    file_name = f'/content/drive/MyDrive/수어 영상 데이터/final_X_{AUG_NUM}_f{FRAME_NUM}'\n",
        "\n",
        "    # add the _jit{JITTER} suffix when JITTER is True\n",
        "    if JITTER:\n",
        "        file_name += f'_jit{JITTER}'\n",
        "\n",
        "    # load the X and y data\n",
        "\n",
        "    X = np.load(file_name + '.npy')\n",
        "    y = np.load(file_name.replace('X', 'y') + '.npy')\n",
        "\n",
        "    df_labels = pd.read_csv('/content/drive/MyDrive/수어 영상 데이터/final_y_labels.csv', index_col=0)\n",
        "    labels = df_labels['val'].tolist()\n",
        "\n",
        "    print('Splitting Train/Test...')\n",
        "    # set aside 20% of train and test data for evaluation\n",
        "    X_train, X_test, y_train, y_test = train_test_split(X, y,\n",
        "        test_size=0.2, shuffle = True, random_state = 8, stratify=y)\n",
        "\n",
        "    print('Splitting Train/Val...')\n",
        "\n",
        "    # Use the same function above for the validation set\n",
        "    X_train, X_val, y_train, y_val = train_test_split(X_train, y_train, \n",
        "        test_size=0.25, random_state= 8, stratify=y_train) # 0.25 x 0.8 = 0.2\n",
        "\n",
        "    print('Reshaping')\n",
        "    X_train = X_train.reshape(-1, FRAME_NUM, 21, 3)\n",
        "    X_val = X_val.reshape(-1, FRAME_NUM, 21, 3)\n",
        "    X_test = X_test.reshape(-1, FRAME_NUM, 21, 3)\n",
        "\n",
        "    X_train = X_train[:, :, :, :2]\n",
        "    X_val = X_val[:, :, :, :2]\n",
        "    X_test = X_test[:, :, :, :2]\n",
        "\n",
        "    X_train = X_train.reshape(X_train.shape[:-2] + (-1,))\n",
        "    X_val = X_val.reshape(X_val.shape[:-2] + (-1,))\n",
        "    X_test = X_test.reshape(X_test.shape[:-2] + (-1,))\n",
        "\n",
        "    print(X_train.shape, X_val.shape, X_test.shape)\n",
        "\n",
        "    return X_train, X_val, X_test, y_train, y_val, y_test, labels\n",
        "\n",
        "    "
      ]
    },
    {
      "cell_type": "code",
      "execution_count": null,
      "metadata": {
        "id": "8V5k2U_WURGT",
        "colab": {
          "base_uri": "https://localhost:8080/"
        },
        "outputId": "ea68082d-1466-49dc-a744-4ccb854bd44c"
      },
      "outputs": [
        {
          "output_type": "execute_result",
          "data": {
            "text/plain": [
              "(100, 60, 42)"
            ]
          },
          "metadata": {},
          "execution_count": 12
        }
      ],
      "source": [
        "import numpy as np\n",
        "\n",
        "# Create an example array\n",
        "arr = np.random.rand(100, 60, 21, 2)\n",
        "\n",
        "# Merge the last two axes\n",
        "merged_arr = arr.reshape(arr.shape[:-2] + (-1,))\n",
        "merged_arr.shape"
      ]
    },
    {
      "cell_type": "markdown",
      "metadata": {
        "id": "9fjlo1GF3auo"
      },
      "source": [
        "## tmp model"
      ]
    },
    {
      "cell_type": "code",
      "execution_count": null,
      "metadata": {
        "colab": {
          "base_uri": "https://localhost:8080/"
        },
        "id": "yQwRY1Vv0JU0",
        "outputId": "b64db785-4616-4e8e-e612-576b1d2b8721"
      },
      "outputs": [
        {
          "name": "stderr",
          "output_type": "stream",
          "text": [
            "WARNING:tensorflow:Layer lstm_2 will not use cuDNN kernels since it doesn't meet the criteria. It will use a generic GPU kernel as fallback when running on GPU.\n",
            "WARNING:tensorflow:Layer lstm_3 will not use cuDNN kernels since it doesn't meet the criteria. It will use a generic GPU kernel as fallback when running on GPU.\n",
            "WARNING:tensorflow:Layer lstm_4 will not use cuDNN kernels since it doesn't meet the criteria. It will use a generic GPU kernel as fallback when running on GPU.\n"
          ]
        }
      ],
      "source": [
        "model = Sequential()\n",
        "model.add(LSTM(128, return_sequences=True, activation='relu', input_shape=(60, 63)))\n",
        "model.add(Dropout(0.2))\n",
        "model.add(LSTM(256, return_sequences=True, activation='relu'))\n",
        "model.add(Dropout(0.2))\n",
        "model.add(LSTM(128, return_sequences=False, activation='relu'))\n",
        "model.add(Dropout(0.5))\n",
        "model.add(Dense(100, activation='relu'))\n",
        "model.add(Dense(64, activation='relu'))\n",
        "model.add(Dense(12, activation='relu'))\n",
        "model.add(Dense(y.shape[1], activation='softmax'))\n"
      ]
    },
    {
      "cell_type": "code",
      "execution_count": null,
      "metadata": {
        "id": "tHbyqbfi0MVS"
      },
      "outputs": [],
      "source": [
        "model.compile(optimizer=\"Adam\", loss='categorical_crossentropy', metrics=['categorical_accuracy'])"
      ]
    },
    {
      "cell_type": "code",
      "execution_count": null,
      "metadata": {
        "colab": {
          "base_uri": "https://localhost:8080/"
        },
        "id": "cM7FtY9_0O2A",
        "outputId": "f82dba77-2e74-4903-b176-4c83a8eab7cf"
      },
      "outputs": [
        {
          "name": "stdout",
          "output_type": "stream",
          "text": [
            "Model: \"sequential_2\"\n",
            "_________________________________________________________________\n",
            " Layer (type)                Output Shape              Param #   \n",
            "=================================================================\n",
            " lstm_2 (LSTM)               (None, 60, 128)           98304     \n",
            "                                                                 \n",
            " dropout_4 (Dropout)         (None, 60, 128)           0         \n",
            "                                                                 \n",
            " lstm_3 (LSTM)               (None, 60, 256)           394240    \n",
            "                                                                 \n",
            " dropout_5 (Dropout)         (None, 60, 256)           0         \n",
            "                                                                 \n",
            " lstm_4 (LSTM)               (None, 128)               197120    \n",
            "                                                                 \n",
            " dropout_6 (Dropout)         (None, 128)               0         \n",
            "                                                                 \n",
            " dense_4 (Dense)             (None, 100)               12900     \n",
            "                                                                 \n",
            " dense_5 (Dense)             (None, 64)                6464      \n",
            "                                                                 \n",
            " dense_6 (Dense)             (None, 12)                780       \n",
            "                                                                 \n",
            " dense_7 (Dense)             (None, 42)                546       \n",
            "                                                                 \n",
            "=================================================================\n",
            "Total params: 710,354\n",
            "Trainable params: 710,354\n",
            "Non-trainable params: 0\n",
            "_________________________________________________________________\n"
          ]
        }
      ],
      "source": [
        "model.summary()"
      ]
    },
    {
      "cell_type": "code",
      "execution_count": null,
      "metadata": {
        "id": "TZs9jpbO0PZt"
      },
      "outputs": [],
      "source": [
        "log_dir = os.path.join('logs/train/base_with_dropout')\n",
        "tb_callback = TensorBoard(log_dir=log_dir)\n",
        "model.fit(X_train, y_train, epochs=1000, callbacks=[tb_callback], validation_data=(X_val, y_val))"
      ]
    },
    {
      "cell_type": "markdown",
      "metadata": {
        "id": "Z3-gJmpt3eh-"
      },
      "source": [
        "## Model Experiments"
      ]
    },
    {
      "cell_type": "markdown",
      "metadata": {
        "id": "t4CTZmp1Mplt"
      },
      "source": [
        "### Experiment 1"
      ]
    },
    {
      "cell_type": "code",
      "execution_count": null,
      "metadata": {
        "colab": {
          "base_uri": "https://localhost:8080/",
          "height": 1000
        },
        "id": "kb0axH5-35MO",
        "outputId": "3fa603dd-a373-4e5e-852d-b3054d9e6afe"
      },
      "outputs": [
        {
          "name": "stdout",
          "output_type": "stream",
          "text": [
            "Epoch 1/100\n",
            "186/186 [==============================] - 4s 11ms/step - loss: 3.5293 - categorical_accuracy: 0.0717 - val_loss: 3.1020 - val_categorical_accuracy: 0.1071\n",
            "Epoch 2/100\n",
            "186/186 [==============================] - 2s 9ms/step - loss: 2.8767 - categorical_accuracy: 0.1535 - val_loss: 2.6518 - val_categorical_accuracy: 0.1980\n",
            "Epoch 3/100\n",
            "186/186 [==============================] - 2s 10ms/step - loss: 2.4510 - categorical_accuracy: 0.2271 - val_loss: 2.1067 - val_categorical_accuracy: 0.3015\n",
            "Epoch 4/100\n",
            "186/186 [==============================] - 2s 10ms/step - loss: 2.0960 - categorical_accuracy: 0.3072 - val_loss: 1.8223 - val_categorical_accuracy: 0.3621\n",
            "Epoch 5/100\n",
            "186/186 [==============================] - 1s 8ms/step - loss: 1.8308 - categorical_accuracy: 0.3736 - val_loss: 1.6886 - val_categorical_accuracy: 0.4328\n",
            "Epoch 6/100\n",
            "186/186 [==============================] - 1s 7ms/step - loss: 1.6669 - categorical_accuracy: 0.4278 - val_loss: 1.4084 - val_categorical_accuracy: 0.4980\n",
            "Epoch 7/100\n",
            "186/186 [==============================] - 1s 8ms/step - loss: 1.5757 - categorical_accuracy: 0.4557 - val_loss: 1.4013 - val_categorical_accuracy: 0.4980\n",
            "Epoch 8/100\n",
            "186/186 [==============================] - 1s 7ms/step - loss: 1.4451 - categorical_accuracy: 0.4963 - val_loss: 1.2093 - val_categorical_accuracy: 0.5611\n",
            "Epoch 9/100\n",
            "186/186 [==============================] - 1s 7ms/step - loss: 1.3680 - categorical_accuracy: 0.5374 - val_loss: 1.1748 - val_categorical_accuracy: 0.5783\n",
            "Epoch 10/100\n",
            "186/186 [==============================] - 1s 8ms/step - loss: 1.2110 - categorical_accuracy: 0.5766 - val_loss: 1.1278 - val_categorical_accuracy: 0.6172\n",
            "Epoch 11/100\n",
            "186/186 [==============================] - 1s 8ms/step - loss: 1.1350 - categorical_accuracy: 0.6054 - val_loss: 0.8885 - val_categorical_accuracy: 0.6843\n",
            "Epoch 12/100\n",
            "186/186 [==============================] - 2s 10ms/step - loss: 1.0163 - categorical_accuracy: 0.6549 - val_loss: 0.7544 - val_categorical_accuracy: 0.7379\n",
            "Epoch 13/100\n",
            "186/186 [==============================] - 2s 9ms/step - loss: 0.9512 - categorical_accuracy: 0.6601 - val_loss: 0.8374 - val_categorical_accuracy: 0.6934\n",
            "Epoch 14/100\n",
            "186/186 [==============================] - 1s 8ms/step - loss: 0.8670 - categorical_accuracy: 0.6906 - val_loss: 0.7772 - val_categorical_accuracy: 0.7308\n",
            "Epoch 15/100\n",
            "186/186 [==============================] - 1s 7ms/step - loss: 0.8269 - categorical_accuracy: 0.7118 - val_loss: 0.5456 - val_categorical_accuracy: 0.8000\n",
            "Epoch 16/100\n",
            "186/186 [==============================] - 1s 8ms/step - loss: 0.7931 - categorical_accuracy: 0.7296 - val_loss: 0.6376 - val_categorical_accuracy: 0.7626\n",
            "Epoch 17/100\n",
            "186/186 [==============================] - 1s 7ms/step - loss: 0.6991 - categorical_accuracy: 0.7588 - val_loss: 0.6000 - val_categorical_accuracy: 0.7808\n",
            "Epoch 18/100\n",
            "186/186 [==============================] - 1s 7ms/step - loss: 0.7080 - categorical_accuracy: 0.7574 - val_loss: 0.6818 - val_categorical_accuracy: 0.7702\n",
            "Epoch 19/100\n",
            "186/186 [==============================] - 1s 7ms/step - loss: 0.6695 - categorical_accuracy: 0.7631 - val_loss: 0.6221 - val_categorical_accuracy: 0.7904\n",
            "Epoch 20/100\n",
            "186/186 [==============================] - 1s 8ms/step - loss: 0.6322 - categorical_accuracy: 0.7778 - val_loss: 0.4895 - val_categorical_accuracy: 0.8202\n",
            "Epoch 21/100\n",
            "186/186 [==============================] - 2s 9ms/step - loss: 0.5930 - categorical_accuracy: 0.7981 - val_loss: 0.4369 - val_categorical_accuracy: 0.8232\n",
            "Epoch 22/100\n",
            "186/186 [==============================] - 2s 9ms/step - loss: 0.5842 - categorical_accuracy: 0.7941 - val_loss: 0.4947 - val_categorical_accuracy: 0.8187\n",
            "Epoch 23/100\n",
            "186/186 [==============================] - 2s 9ms/step - loss: 0.5160 - categorical_accuracy: 0.8222 - val_loss: 0.3820 - val_categorical_accuracy: 0.8576\n",
            "Epoch 24/100\n",
            "186/186 [==============================] - 1s 8ms/step - loss: 0.5067 - categorical_accuracy: 0.8281 - val_loss: 0.3990 - val_categorical_accuracy: 0.8540\n",
            "Epoch 25/100\n",
            "186/186 [==============================] - 1s 8ms/step - loss: 0.4768 - categorical_accuracy: 0.8380 - val_loss: 0.3748 - val_categorical_accuracy: 0.8616\n",
            "Epoch 26/100\n",
            "186/186 [==============================] - 1s 8ms/step - loss: 0.5135 - categorical_accuracy: 0.8279 - val_loss: 0.3567 - val_categorical_accuracy: 0.8672\n",
            "Epoch 27/100\n",
            "186/186 [==============================] - 1s 8ms/step - loss: 0.4217 - categorical_accuracy: 0.8554 - val_loss: 0.3008 - val_categorical_accuracy: 0.8904\n",
            "Epoch 28/100\n",
            "186/186 [==============================] - 1s 8ms/step - loss: 0.4177 - categorical_accuracy: 0.8572 - val_loss: 0.3565 - val_categorical_accuracy: 0.8838\n",
            "Epoch 29/100\n",
            "186/186 [==============================] - 1s 7ms/step - loss: 0.4227 - categorical_accuracy: 0.8551 - val_loss: 0.3254 - val_categorical_accuracy: 0.8813\n",
            "Epoch 30/100\n",
            "186/186 [==============================] - 1s 8ms/step - loss: 0.4092 - categorical_accuracy: 0.8606 - val_loss: 0.3051 - val_categorical_accuracy: 0.8899\n",
            "Epoch 31/100\n",
            "186/186 [==============================] - 2s 10ms/step - loss: 0.4007 - categorical_accuracy: 0.8675 - val_loss: 0.2260 - val_categorical_accuracy: 0.9101\n",
            "Epoch 32/100\n",
            "186/186 [==============================] - 2s 9ms/step - loss: 0.3663 - categorical_accuracy: 0.8791 - val_loss: 0.2755 - val_categorical_accuracy: 0.8955\n",
            "Epoch 33/100\n",
            "186/186 [==============================] - 2s 8ms/step - loss: 0.3751 - categorical_accuracy: 0.8758 - val_loss: 0.2195 - val_categorical_accuracy: 0.9247\n",
            "Epoch 34/100\n",
            "186/186 [==============================] - 1s 8ms/step - loss: 0.3690 - categorical_accuracy: 0.8742 - val_loss: 0.3455 - val_categorical_accuracy: 0.8707\n",
            "Epoch 35/100\n",
            "186/186 [==============================] - 1s 8ms/step - loss: 0.3362 - categorical_accuracy: 0.8840 - val_loss: 0.2125 - val_categorical_accuracy: 0.9258\n",
            "Epoch 36/100\n",
            "186/186 [==============================] - 1s 7ms/step - loss: 0.3123 - categorical_accuracy: 0.8961 - val_loss: 0.2218 - val_categorical_accuracy: 0.9141\n",
            "Epoch 37/100\n",
            "186/186 [==============================] - 1s 7ms/step - loss: 0.3406 - categorical_accuracy: 0.8850 - val_loss: 0.2951 - val_categorical_accuracy: 0.8929\n",
            "Epoch 38/100\n",
            "186/186 [==============================] - 1s 7ms/step - loss: 0.3000 - categorical_accuracy: 0.9025 - val_loss: 0.2987 - val_categorical_accuracy: 0.8929\n",
            "Epoch 39/100\n",
            "186/186 [==============================] - 1s 7ms/step - loss: 0.2946 - categorical_accuracy: 0.9017 - val_loss: 0.2196 - val_categorical_accuracy: 0.9152\n",
            "Epoch 40/100\n",
            "186/186 [==============================] - 2s 9ms/step - loss: 0.2980 - categorical_accuracy: 0.9012 - val_loss: 0.1706 - val_categorical_accuracy: 0.9354\n",
            "Epoch 41/100\n",
            "186/186 [==============================] - 2s 9ms/step - loss: 0.3133 - categorical_accuracy: 0.8966 - val_loss: 0.1816 - val_categorical_accuracy: 0.9318\n",
            "Epoch 42/100\n",
            "186/186 [==============================] - 2s 10ms/step - loss: 0.2967 - categorical_accuracy: 0.9047 - val_loss: 0.2616 - val_categorical_accuracy: 0.9106\n",
            "Epoch 43/100\n",
            "186/186 [==============================] - 1s 8ms/step - loss: 0.3120 - categorical_accuracy: 0.8953 - val_loss: 0.1777 - val_categorical_accuracy: 0.9424\n",
            "Epoch 44/100\n",
            "186/186 [==============================] - 1s 8ms/step - loss: 0.2360 - categorical_accuracy: 0.9227 - val_loss: 0.1969 - val_categorical_accuracy: 0.9338\n",
            "Epoch 45/100\n",
            "186/186 [==============================] - 1s 8ms/step - loss: 0.2553 - categorical_accuracy: 0.9131 - val_loss: 0.1479 - val_categorical_accuracy: 0.9465\n",
            "Epoch 46/100\n",
            "186/186 [==============================] - 1s 8ms/step - loss: 0.2264 - categorical_accuracy: 0.9271 - val_loss: 0.1656 - val_categorical_accuracy: 0.9424\n",
            "Epoch 47/100\n",
            "186/186 [==============================] - 1s 8ms/step - loss: 0.3064 - categorical_accuracy: 0.8990 - val_loss: 0.2004 - val_categorical_accuracy: 0.9313\n",
            "Epoch 48/100\n",
            "186/186 [==============================] - 1s 8ms/step - loss: 0.2313 - categorical_accuracy: 0.9244 - val_loss: 0.1728 - val_categorical_accuracy: 0.9333\n",
            "Epoch 49/100\n",
            "186/186 [==============================] - 2s 8ms/step - loss: 0.2588 - categorical_accuracy: 0.9145 - val_loss: 0.1279 - val_categorical_accuracy: 0.9561\n",
            "Epoch 50/100\n",
            "186/186 [==============================] - 2s 10ms/step - loss: 0.2248 - categorical_accuracy: 0.9269 - val_loss: 0.1435 - val_categorical_accuracy: 0.9500\n",
            "Epoch 51/100\n",
            "186/186 [==============================] - 2s 10ms/step - loss: 0.2661 - categorical_accuracy: 0.9077 - val_loss: 0.2292 - val_categorical_accuracy: 0.9136\n",
            "Epoch 52/100\n",
            "186/186 [==============================] - 1s 8ms/step - loss: 0.2580 - categorical_accuracy: 0.9152 - val_loss: 0.1275 - val_categorical_accuracy: 0.9566\n",
            "Epoch 53/100\n",
            "186/186 [==============================] - 1s 7ms/step - loss: 0.2461 - categorical_accuracy: 0.9194 - val_loss: 0.1860 - val_categorical_accuracy: 0.9379\n",
            "Epoch 54/100\n",
            "186/186 [==============================] - 1s 7ms/step - loss: 0.2222 - categorical_accuracy: 0.9279 - val_loss: 0.1377 - val_categorical_accuracy: 0.9556\n",
            "Epoch 55/100\n",
            "186/186 [==============================] - 1s 7ms/step - loss: 0.2423 - categorical_accuracy: 0.9215 - val_loss: 0.1935 - val_categorical_accuracy: 0.9364\n",
            "Epoch 56/100\n",
            "186/186 [==============================] - 1s 7ms/step - loss: 0.2220 - categorical_accuracy: 0.9236 - val_loss: 0.1756 - val_categorical_accuracy: 0.9374\n",
            "Epoch 57/100\n",
            "186/186 [==============================] - 1s 8ms/step - loss: 0.1935 - categorical_accuracy: 0.9342 - val_loss: 0.1284 - val_categorical_accuracy: 0.9505\n",
            "Epoch 58/100\n",
            "186/186 [==============================] - 1s 8ms/step - loss: 0.2267 - categorical_accuracy: 0.9274 - val_loss: 0.1390 - val_categorical_accuracy: 0.9515\n",
            "Epoch 59/100\n",
            "186/186 [==============================] - 2s 9ms/step - loss: 0.2072 - categorical_accuracy: 0.9362 - val_loss: 0.1527 - val_categorical_accuracy: 0.9455\n",
            "Epoch 60/100\n",
            "186/186 [==============================] - 2s 10ms/step - loss: 0.2398 - categorical_accuracy: 0.9242 - val_loss: 0.2170 - val_categorical_accuracy: 0.9343\n",
            "Epoch 61/100\n",
            "186/186 [==============================] - 2s 9ms/step - loss: 0.2088 - categorical_accuracy: 0.9303 - val_loss: 0.1334 - val_categorical_accuracy: 0.9540\n",
            "Epoch 62/100\n",
            "186/186 [==============================] - 1s 8ms/step - loss: 0.2229 - categorical_accuracy: 0.9288 - val_loss: 0.1605 - val_categorical_accuracy: 0.9419\n",
            "Epoch 63/100\n",
            "186/186 [==============================] - 1s 8ms/step - loss: 0.2090 - categorical_accuracy: 0.9303 - val_loss: 0.1672 - val_categorical_accuracy: 0.9495\n",
            "Epoch 64/100\n",
            "186/186 [==============================] - 1s 8ms/step - loss: 0.2230 - categorical_accuracy: 0.9315 - val_loss: 0.2042 - val_categorical_accuracy: 0.9253\n",
            "Epoch 65/100\n",
            "186/186 [==============================] - 1s 7ms/step - loss: 0.1919 - categorical_accuracy: 0.9387 - val_loss: 0.1507 - val_categorical_accuracy: 0.9480\n",
            "Epoch 66/100\n",
            "186/186 [==============================] - 1s 8ms/step - loss: 0.1747 - categorical_accuracy: 0.9433 - val_loss: 0.1495 - val_categorical_accuracy: 0.9505\n",
            "Epoch 67/100\n",
            "186/186 [==============================] - 1s 7ms/step - loss: 0.1884 - categorical_accuracy: 0.9401 - val_loss: 0.1067 - val_categorical_accuracy: 0.9657\n",
            "Epoch 68/100\n",
            "186/186 [==============================] - 1s 8ms/step - loss: 0.1681 - categorical_accuracy: 0.9455 - val_loss: 0.1828 - val_categorical_accuracy: 0.9439\n",
            "Epoch 69/100\n",
            "186/186 [==============================] - 2s 10ms/step - loss: 0.1816 - categorical_accuracy: 0.9402 - val_loss: 0.1608 - val_categorical_accuracy: 0.9505\n",
            "Epoch 70/100\n",
            "186/186 [==============================] - 2s 10ms/step - loss: 0.1800 - categorical_accuracy: 0.9392 - val_loss: 0.1196 - val_categorical_accuracy: 0.9616\n",
            "Epoch 71/100\n",
            "186/186 [==============================] - 2s 8ms/step - loss: 0.2391 - categorical_accuracy: 0.9226 - val_loss: 0.2463 - val_categorical_accuracy: 0.9207\n",
            "Epoch 72/100\n",
            "186/186 [==============================] - 1s 8ms/step - loss: 0.2084 - categorical_accuracy: 0.9308 - val_loss: 0.0988 - val_categorical_accuracy: 0.9657\n",
            "Epoch 73/100\n",
            "186/186 [==============================] - 1s 7ms/step - loss: 0.1647 - categorical_accuracy: 0.9458 - val_loss: 0.1123 - val_categorical_accuracy: 0.9667\n",
            "Epoch 74/100\n",
            "186/186 [==============================] - 1s 7ms/step - loss: 0.1542 - categorical_accuracy: 0.9481 - val_loss: 0.1169 - val_categorical_accuracy: 0.9586\n",
            "Epoch 75/100\n",
            "186/186 [==============================] - 1s 7ms/step - loss: 0.1513 - categorical_accuracy: 0.9495 - val_loss: 0.1256 - val_categorical_accuracy: 0.9566\n",
            "Epoch 76/100\n",
            "186/186 [==============================] - 1s 8ms/step - loss: 0.1773 - categorical_accuracy: 0.9418 - val_loss: 0.1365 - val_categorical_accuracy: 0.9525\n",
            "Epoch 77/100\n",
            "186/186 [==============================] - 1s 8ms/step - loss: 0.1826 - categorical_accuracy: 0.9404 - val_loss: 0.1488 - val_categorical_accuracy: 0.9460\n",
            "Epoch 78/100\n",
            "186/186 [==============================] - 2s 10ms/step - loss: 0.1758 - categorical_accuracy: 0.9421 - val_loss: 0.2315 - val_categorical_accuracy: 0.9182\n",
            "Epoch 79/100\n",
            "186/186 [==============================] - 2s 10ms/step - loss: 0.1738 - categorical_accuracy: 0.9433 - val_loss: 0.1069 - val_categorical_accuracy: 0.9712\n",
            "Epoch 80/100\n",
            "186/186 [==============================] - 2s 9ms/step - loss: 0.1428 - categorical_accuracy: 0.9545 - val_loss: 0.2067 - val_categorical_accuracy: 0.9354\n",
            "Epoch 81/100\n",
            "186/186 [==============================] - 1s 8ms/step - loss: 0.1763 - categorical_accuracy: 0.9397 - val_loss: 0.0970 - val_categorical_accuracy: 0.9672\n",
            "Epoch 82/100\n",
            "186/186 [==============================] - 1s 8ms/step - loss: 0.1620 - categorical_accuracy: 0.9470 - val_loss: 0.1130 - val_categorical_accuracy: 0.9601\n",
            "Epoch 83/100\n",
            "186/186 [==============================] - 1s 8ms/step - loss: 0.1701 - categorical_accuracy: 0.9443 - val_loss: 0.1559 - val_categorical_accuracy: 0.9449\n",
            "Epoch 84/100\n",
            "186/186 [==============================] - 1s 8ms/step - loss: 0.1587 - categorical_accuracy: 0.9493 - val_loss: 0.1044 - val_categorical_accuracy: 0.9571\n",
            "Epoch 85/100\n",
            "186/186 [==============================] - 1s 8ms/step - loss: 0.1341 - categorical_accuracy: 0.9586 - val_loss: 0.0985 - val_categorical_accuracy: 0.9662\n",
            "Epoch 86/100\n",
            "186/186 [==============================] - 1s 8ms/step - loss: 0.1468 - categorical_accuracy: 0.9525 - val_loss: 0.1292 - val_categorical_accuracy: 0.9571\n",
            "Epoch 87/100\n",
            "186/186 [==============================] - 2s 10ms/step - loss: 0.1482 - categorical_accuracy: 0.9483 - val_loss: 0.1060 - val_categorical_accuracy: 0.9682\n",
            "Epoch 88/100\n",
            "186/186 [==============================] - 2s 10ms/step - loss: 0.1313 - categorical_accuracy: 0.9562 - val_loss: 0.1204 - val_categorical_accuracy: 0.9596\n",
            "Epoch 89/100\n",
            "186/186 [==============================] - 2s 9ms/step - loss: 0.1750 - categorical_accuracy: 0.9461 - val_loss: 0.1705 - val_categorical_accuracy: 0.9455\n",
            "Epoch 90/100\n",
            "186/186 [==============================] - 1s 7ms/step - loss: 0.1601 - categorical_accuracy: 0.9498 - val_loss: 0.1842 - val_categorical_accuracy: 0.9374\n",
            "Epoch 91/100\n",
            "186/186 [==============================] - 1s 7ms/step - loss: 0.1401 - categorical_accuracy: 0.9562 - val_loss: 0.1375 - val_categorical_accuracy: 0.9520\n",
            "Epoch 92/100\n",
            "186/186 [==============================] - 1s 7ms/step - loss: 0.1564 - categorical_accuracy: 0.9485 - val_loss: 0.1477 - val_categorical_accuracy: 0.9535\n",
            "Epoch 93/100\n",
            "186/186 [==============================] - 1s 7ms/step - loss: 0.1877 - categorical_accuracy: 0.9407 - val_loss: 0.1703 - val_categorical_accuracy: 0.9444\n",
            "Epoch 94/100\n",
            "186/186 [==============================] - 1s 7ms/step - loss: 0.1490 - categorical_accuracy: 0.9522 - val_loss: 0.0972 - val_categorical_accuracy: 0.9616\n",
            "Epoch 95/100\n",
            "186/186 [==============================] - 1s 7ms/step - loss: 0.1616 - categorical_accuracy: 0.9463 - val_loss: 0.1357 - val_categorical_accuracy: 0.9576\n",
            "Epoch 96/100\n",
            "186/186 [==============================] - 1s 8ms/step - loss: 0.1231 - categorical_accuracy: 0.9620 - val_loss: 0.1121 - val_categorical_accuracy: 0.9636\n",
            "Epoch 97/100\n",
            "186/186 [==============================] - 2s 10ms/step - loss: 0.1252 - categorical_accuracy: 0.9608 - val_loss: 0.1488 - val_categorical_accuracy: 0.9525\n",
            "Epoch 98/100\n",
            "186/186 [==============================] - 2s 10ms/step - loss: 0.1227 - categorical_accuracy: 0.9593 - val_loss: 0.0935 - val_categorical_accuracy: 0.9641\n",
            "Epoch 99/100\n",
            "186/186 [==============================] - 2s 8ms/step - loss: 0.1497 - categorical_accuracy: 0.9530 - val_loss: 0.0946 - val_categorical_accuracy: 0.9697\n",
            "Epoch 100/100\n",
            "186/186 [==============================] - 1s 8ms/step - loss: 0.1259 - categorical_accuracy: 0.9588 - val_loss: 0.1180 - val_categorical_accuracy: 0.9606\n",
            "Logging parameters\n",
            "Logging metrics\n"
          ]
        },
        {
          "name": "stderr",
          "output_type": "stream",
          "text": [
            "2023/03/27 04:00:32 WARNING mlflow.tensorflow: You are saving a TensorFlow Core model or Keras model without a signature. Inference with mlflow.pyfunc.spark_udf() will not work unless the model's pyfunc representation accepts pandas DataFrames as inference inputs.\n"
          ]
        },
        {
          "name": "stdout",
          "output_type": "stream",
          "text": [
            "Logging model\n"
          ]
        },
        {
          "name": "stderr",
          "output_type": "stream",
          "text": [
            "WARNING:absl:Found untraced functions such as lstm_cell_5_layer_call_fn, lstm_cell_5_layer_call_and_return_conditional_losses while saving (showing 2 of 2). These functions will not be directly callable after loading.\n",
            "2023/03/27 04:00:43 WARNING mlflow.utils.requirements_utils: Found jaxlib version (0.4.6+cuda11.cudnn86) contains a local version label (+cuda11.cudnn86). MLflow logged a pip requirement for this package as 'jaxlib==0.4.6' without the local version label to make it installable from PyPI. To specify pip requirements containing local version labels, please use `conda_env` or `pip_requirements`.\n"
          ]
        },
        {
          "name": "stdout",
          "output_type": "stream",
          "text": [
            "Logging test eval data\n",
            "62/62 [==============================] - 1s 3ms/step\n"
          ]
        },
        {
          "data": {
            "image/png": "[encoded data removed]",
            "text/plain": [
              "<Figure size 432x288 with 1 Axes>"
            ]
          },
          "metadata": {},
          "output_type": "display_data"
        },
        {
          "data": {
            "image/png": "[encoded data removed]",
            "text/plain": [
              "<Figure size 1440x1440 with 2 Axes>"
            ]
          },
          "metadata": {},
          "output_type": "display_data"
        }
      ],
      "source": [
        "AUG_NUM = 10\n",
        "FRAME_NUM = 60\n",
        "\n",
        "X_train, X_val, X_test, y_train, y_val, y_test = data_call(AUG_NUM, FRAME_NUM)\n",
        "\n",
        "model = Sequential([\n",
        "    InputLayer(input_shape=(60,63 )),\n",
        "    Dropout(0.2),\n",
        "    LSTM(160, input_shape=[60, 63]),\n",
        "    Dropout(0.5),\n",
        "    Dense(100, activation='relu'),\n",
        "    Dense(y.shape[1], activation='softmax')\n",
        "])\n",
        "\n",
        "# Compile hyperparameter\n",
        "compile_kwargs = {\n",
        "    \"optimizer\": 'Adam', \n",
        "    \"loss\": 'categorical_crossentropy',\n",
        "    \"metrics\": ['categorical_accuracy'],\n",
        "}\n",
        "\n",
        "# fit hyperparameter\n",
        "fit_kwargs = {\n",
        "    \"x\": X_train, \n",
        "    \"y\": y_train,\n",
        "    \"epochs\": 100,\n",
        "    \"validation_data\": (X_val, y_val)\n",
        "}\n",
        "\n",
        "optional_params = {\n",
        "    \"test_data\": (X_test, y_test),\n",
        "    \"aug_num\": 10\n",
        "}\n",
        "\n",
        "run_name = 'base_model'\n",
        "run = train_with_mlflow(run_name, model, compile_kwargs, fit_kwargs, optional_params)"
      ]
    },
    {
      "cell_type": "code",
      "execution_count": null,
      "metadata": {
        "id": "GZccZthYMvcL"
      },
      "outputs": [],
      "source": [
        "model = Sequential([\n",
        "    InputLayer(input_shape=(60,63 )),\n",
        "    Dropout(0.2),\n",
        "    LSTM(160, input_shape=[60, 63]),\n",
        "    Dropout(0.5),\n",
        "    Dense(100, activation='relu'),\n",
        "    Dense(y.shape[1], activation='softmax')\n",
        "])\n",
        "# Compile hyperparameter\n",
        "compile_kwargs = {\n",
        "    \"optimizer\": 'Adam', \n",
        "    \"loss\": 'categorical_crossentropy',\n",
        "    \"metrics\": ['categorical_accuracy'],\n",
        "}\n",
        "\n",
        "# fit hyperparameter\n",
        "fit_kwargs = {\n",
        "    \"x\": X_train, \n",
        "    \"y\": y_train,\n",
        "    \"epochs\": 100,\n",
        "    \"validation_data\": (X_val, y_val)\n",
        "}\n",
        "\n",
        "optional_params = {\n",
        "    \"test_data\": (X_test, y_test),\n",
        "    \"aug_num\": 10\n",
        "}\n",
        "\n",
        "run_name = 'base_model'\n",
        "run = train_with_mlflow(run_name, model, compile_kwargs, fit_kwargs, optional_params)"
      ]
    },
    {
      "cell_type": "markdown",
      "metadata": {
        "id": "0AO7pHSVPA9i"
      },
      "source": [
        "### Experiment 2"
      ]
    },
    {
      "cell_type": "code",
      "execution_count": null,
      "metadata": {
        "id": "hSqsVwA947SO"
      },
      "outputs": [],
      "source": [
        "AUG_NUM = 100\n",
        "FRAME_NUM = 30\n",
        "\n",
        "X_train, X_val, X_test, y_train, y_val, y_test, labels = data_call(AUG_NUM, FRAME_NUM)\n"
      ]
    },
    {
      "cell_type": "code",
      "execution_count": null,
      "metadata": {
        "id": "JpLgO4X2PM4E"
      },
      "outputs": [],
      "source": [
        "model = Sequential([\n",
        "    InputLayer(input_shape=(FRAME_NUM,63 )),\n",
        "    Dropout(0.2),\n",
        "    LSTM(160, input_shape=[FRAME_NUM, 63]),\n",
        "    Dropout(0.5),\n",
        "    Dense(100, activation='relu'),\n",
        "    Dense(y_train.shape[1], activation='softmax')\n",
        "])\n",
        "# Compile hyperparameter\n",
        "compile_kwargs = {\n",
        "    \"optimizer\": 'Adam', \n",
        "    \"loss\": 'categorical_crossentropy',\n",
        "    \"metrics\": ['categorical_accuracy'],\n",
        "}\n",
        "\n",
        "# fit hyperparameter\n",
        "fit_kwargs = {\n",
        "    \"x\": X_train, \n",
        "    \"y\": y_train,\n",
        "    \"epochs\": 100,\n",
        "    \"validation_data\": (X_val, y_val)\n",
        "}\n",
        "\n",
        "optional_params = {\n",
        "    \"test_data\": (X_test, y_test),\n",
        "    \"aug_num\": AUG_NUM,\n",
        "    \"frame_num\": FRAME_NUM\n",
        "}\n",
        "\n",
        "run_name = f'base_model_aug_{AUG_NUM}_frame_{FRAME_NUM}'\n",
        "run = train_with_mlflow(run_name, model, compile_kwargs, fit_kwargs, optional_params)"
      ]
    },
    {
      "cell_type": "markdown",
      "metadata": {
        "id": "KAgFNf8OaBIC"
      },
      "source": [
        "### Experiment 3"
      ]
    },
    {
      "cell_type": "code",
      "execution_count": null,
      "metadata": {
        "id": "q9SUsBuIaBIC"
      },
      "outputs": [],
      "source": [
        "AUG_NUM = 100\n",
        "FRAME_NUM = 30\n",
        "\n",
        "\n",
        "X_train, X_val, X_test, y_train, y_val, y_test, labels = data_call(AUG_NUM, FRAME_NUM)\n",
        "\n"
      ]
    },
    {
      "cell_type": "code",
      "execution_count": null,
      "metadata": {
        "colab": {
          "base_uri": "https://localhost:8080/"
        },
        "id": "uVlEyfxiyf5F",
        "outputId": "1f4902c6-ea1c-44ef-f55f-24281c9a6419"
      },
      "outputs": [
        {
          "output_type": "stream",
          "name": "stdout",
          "text": [
            "Tensorflow version 2.12.0\n",
            "Running on TPU  ['10.108.13.154:8470']\n"
          ]
        }
      ],
      "source": [
        "# Enable TPU\n",
        "import tensorflow as tf\n",
        "print(\"Tensorflow version \" + tf.__version__)\n",
        "\n",
        "try:\n",
        "  tpu = tf.distribute.cluster_resolver.TPUClusterResolver()  # TPU detection\n",
        "  print('Running on TPU ', tpu.cluster_spec().as_dict()['worker'])\n",
        "except ValueError:\n",
        "  raise BaseException('ERROR: Not connected to a TPU runtime; please see the previous cell in this notebook for instructions!')\n",
        "\n",
        "tf.config.experimental_connect_to_cluster(tpu)\n",
        "tf.tpu.experimental.initialize_tpu_system(tpu)\n",
        "tpu_strategy = tf.distribute.TPUStrategy(tpu)"
      ]
    },
    {
      "cell_type": "code",
      "execution_count": null,
      "metadata": {
        "id": "d4gSc8Nizhh_"
      },
      "outputs": [],
      "source": [
        "# to TPU\n",
        "\n",
        "def create_model():\n",
        "    model = Sequential([\n",
        "    InputLayer(input_shape=(FRAME_NUM,63 )),\n",
        "    LSTM(160, return_sequences=True, activation='relu', input_shape=[FRAME_NUM, 63]),\n",
        "    Dropout(0.5),\n",
        "    LSTM(120, return_sequences=False, activation='relu'),\n",
        "    Dropout(0.5),\n",
        "    Dense(100, activation='relu'),\n",
        "    Dense(y_train.shape[1], activation='softmax')\n",
        "    ])\n",
        "\n",
        "    return model\n"
      ]
    },
    {
      "cell_type": "code",
      "execution_count": null,
      "metadata": {
        "colab": {
          "base_uri": "https://localhost:8080/"
        },
        "id": "9rrxyvFi_k9C",
        "outputId": "aaf138e2-14e2-4590-8887-49bfdb31dd58"
      },
      "outputs": [
        {
          "name": "stdout",
          "output_type": "stream",
          "text": [
            "Model: \"sequential_3\"\n",
            "_________________________________________________________________\n",
            " Layer (type)                Output Shape              Param #   \n",
            "=================================================================\n",
            " dropout_9 (Dropout)         (None, 30, 63)            0         \n",
            "                                                                 \n",
            " lstm_6 (LSTM)               (None, 30, 160)           143360    \n",
            "                                                                 \n",
            " dropout_10 (Dropout)        (None, 30, 160)           0         \n",
            "                                                                 \n",
            " lstm_7 (LSTM)               (None, 120)               134880    \n",
            "                                                                 \n",
            " dropout_11 (Dropout)        (None, 120)               0         \n",
            "                                                                 \n",
            " dense_6 (Dense)             (None, 100)               12100     \n",
            "                                                                 \n",
            " dense_7 (Dense)             (None, 42)                4242      \n",
            "                                                                 \n",
            "=================================================================\n",
            "Total params: 294,582\n",
            "Trainable params: 294,582\n",
            "Non-trainable params: 0\n",
            "_________________________________________________________________\n"
          ]
        }
      ],
      "source": [
        "with tpu_strategy.scope():\n",
        "    model = create_model()\n",
        "model.summary()"
      ]
    },
    {
      "cell_type": "code",
      "execution_count": null,
      "metadata": {
        "id": "Ez4kyTzOaBIC"
      },
      "outputs": [],
      "source": [
        "# Compile hyperparameter\n",
        "compile_kwargs = {\n",
        "    \"optimizer\": 'Adam', \n",
        "    \"loss\": 'categorical_crossentropy',\n",
        "    \"metrics\": ['categorical_accuracy'],\n",
        "}\n",
        "\n",
        "# fit hyperparameter\n",
        "fit_kwargs = {\n",
        "    \"x\": X_train, \n",
        "    \"y\": y_train,\n",
        "    'batch_size': 256,\n",
        "    \"epochs\": 1,\n",
        "    \"validation_data\": (X_val, y_val)\n",
        "}\n",
        "\n",
        "optional_params = { \n",
        "    \"test_data\": (X_test, y_test),\n",
        "    \"aug_num\": AUG_NUM,\n",
        "    \"frame_num\": FRAME_NUM\n",
        "}\n",
        "\n",
        "# run_name = f'double_LSTM_aug_{AUG_NUM}_frame_{FRAME_NUM}'\n",
        "run_name = 'TPU_test'\n",
        "run = train_with_mlflow(run_name, model, compile_kwargs, fit_kwargs, optional_params)"
      ]
    },
    {
      "cell_type": "code",
      "execution_count": null,
      "metadata": {
        "colab": {
          "base_uri": "https://localhost:8080/"
        },
        "id": "istRuSjm7Jvd",
        "outputId": "a52363f8-ccb1-4b01-f17a-a0f6e2562aa6"
      },
      "outputs": [
        {
          "name": "stdout",
          "output_type": "stream",
          "text": [
            "569/569 [==============================] - 13s 17ms/step\n"
          ]
        },
        {
          "data": {
            "text/plain": [
              "array([[3.96411903e-10, 3.05477699e-10, 6.80462561e-11, ...,\n",
              "        1.18928805e-08, 3.24585017e-07, 2.37192467e-06],\n",
              "       [1.57992985e-09, 4.13222110e-13, 4.92481931e-08, ...,\n",
              "        1.79131205e-14, 2.07142692e-10, 3.90366992e-12],\n",
              "       [1.57770444e-13, 1.50762948e-17, 1.19782391e-15, ...,\n",
              "        1.84727015e-28, 2.68153262e-20, 6.84723298e-24],\n",
              "       ...,\n",
              "       [1.31082356e-09, 3.38598579e-06, 1.32011763e-11, ...,\n",
              "        8.22311918e-14, 2.03775556e-07, 3.50168875e-07],\n",
              "       [1.03708629e-19, 6.64457303e-21, 7.79292510e-21, ...,\n",
              "        1.08741239e-12, 3.62520875e-28, 1.34531522e-27],\n",
              "       [7.32653352e-05, 1.05329425e-08, 1.16243427e-06, ...,\n",
              "        2.94405611e-09, 1.08401532e-09, 2.06576035e-04]], dtype=float32)"
            ]
          },
          "execution_count": 14,
          "metadata": {},
          "output_type": "execute_result"
        }
      ],
      "source": [
        "model.predict(X_test)"
      ]
    },
    {
      "cell_type": "markdown",
      "metadata": {
        "id": "S90I3ZxzFqA-"
      },
      "source": [
        "### Experiment 4"
      ]
    },
    {
      "cell_type": "code",
      "execution_count": null,
      "metadata": {
        "id": "EUpI4OODavtB"
      },
      "outputs": [],
      "source": [
        "AUG_NUM = 100\n",
        "FRAME_NUM = 15\n",
        "SHIFT_VAL = 0.3\n",
        "ROTATE_VAL = 0.0\n",
        "SCALE_VAL = 0.5\n",
        "JITTER_AMOUNT = 5\n",
        "EPOCH = 250\n",
        "BATCH_SIZE = 128\n",
        "\n"
      ]
    },
    {
      "cell_type": "code",
      "source": [
        "def data_call(AUG_NUM, FRAME_NUM, JITTER=None):\n",
        "    X = np.load('/content/drive/MyDrive/수어 영상 데이터/final_X_100_f30_jit5_2D.npy')\n",
        "    y = np.load('/content/drive/MyDrive/수어 영상 데이터/final_y_100_f30_jit5_2D.npy')\n",
        "\n",
        "    df_labels = pd.read_csv('/content/drive/MyDrive/수어 영상 데이터/final_y_labels.csv', index_col=0)\n",
        "    labels = df_labels['val'].tolist()\n",
        "\n",
        "    print('Splitting Train/Test...')\n",
        "    # set aside 20% of train and test data for evaluation\n",
        "    X_train, X_test, y_train, y_test = train_test_split(X, y,\n",
        "        test_size=0.2, shuffle = True, random_state = 8, stratify=y)\n",
        "\n",
        "    print('Splitting Train/Val...')\n",
        "\n",
        "    # Use the same function above for the validation set\n",
        "    X_train, X_val, y_train, y_val = train_test_split(X_train, y_train, \n",
        "        test_size=0.25, random_state= 8, stratify=y_train) # 0.25 x 0.8 = 0.2\n",
        "\n",
        "    print('Reshaping')\n",
        "    X_train = X_train.reshape(-1, FRAME_NUM, 21, 3)\n",
        "    X_val = X_val.reshape(-1, FRAME_NUM, 21, 3)\n",
        "    X_test = X_test.reshape(-1, FRAME_NUM, 21, 3)\n",
        "\n",
        "    # select 15 frame\n",
        "    X_train = X_train[:, ::2, :, :]\n",
        "    X_val = X_val[:, ::2, :, :]\n",
        "    X_test = X_test[:, ::2, :, :]\n",
        "\n",
        "    X_train = X_train[:, :, :, :2]\n",
        "    X_val = X_val[:, :, :, :2]\n",
        "    X_test = X_test[:, :, :, :2]\n",
        "\n",
        "    X_train = X_train.reshape(X_train.shape[:-2] + (-1,))\n",
        "    X_val = X_val.reshape(X_val.shape[:-2] + (-1,))\n",
        "    X_test = X_test.reshape(X_test.shape[:-2] + (-1,))\n",
        "\n",
        "    print(X_train.shape, X_val.shape, X_test.shape)\n",
        "\n",
        "    return X_train, X_val, X_test, y_train, y_val, y_test, labels\n",
        "\n",
        "    "
      ],
      "metadata": {
        "id": "9fNtOykiN8o0"
      },
      "execution_count": null,
      "outputs": []
    },
    {
      "cell_type": "code",
      "execution_count": null,
      "metadata": {
        "id": "OciJJT35dtxf",
        "colab": {
          "base_uri": "https://localhost:8080/"
        },
        "outputId": "5e35b972-32af-4297-ea28-8e5bea14b673"
      },
      "outputs": [
        {
          "output_type": "stream",
          "name": "stdout",
          "text": [
            "Splitting Train/Test...\n",
            "Splitting Train/Val...\n",
            "Reshaping\n",
            "(27540, 15, 42) (9180, 15, 42) (9180, 15, 42)\n"
          ]
        }
      ],
      "source": [
        "X_train, X_val, X_test, y_train, y_val, y_test, labels = data_call(AUG_NUM, FRAME_NUM, JITTER_AMOUNT)"
      ]
    },
    {
      "cell_type": "code",
      "execution_count": null,
      "metadata": {
        "colab": {
          "base_uri": "https://localhost:8080/"
        },
        "id": "nk0jS3UhEyTg",
        "outputId": "10c4f517-66cf-415f-d52d-d8d394f03577"
      },
      "outputs": [
        {
          "output_type": "stream",
          "name": "stdout",
          "text": [
            "Model: \"sequential_6\"\n",
            "_________________________________________________________________\n",
            " Layer (type)                Output Shape              Param #   \n",
            "=================================================================\n",
            " dropout_18 (Dropout)        (None, 15, 42)            0         \n",
            "                                                                 \n",
            " lstm_12 (LSTM)              (None, 15, 160)           129920    \n",
            "                                                                 \n",
            " dropout_19 (Dropout)        (None, 15, 160)           0         \n",
            "                                                                 \n",
            " lstm_13 (LSTM)              (None, 120)               134880    \n",
            "                                                                 \n",
            " dropout_20 (Dropout)        (None, 120)               0         \n",
            "                                                                 \n",
            " dense_12 (Dense)            (None, 100)               12100     \n",
            "                                                                 \n",
            " dense_13 (Dense)            (None, 42)                4242      \n",
            "                                                                 \n",
            "=================================================================\n",
            "Total params: 281,142\n",
            "Trainable params: 281,142\n",
            "Non-trainable params: 0\n",
            "_________________________________________________________________\n"
          ]
        }
      ],
      "source": [
        "# to TPU\n",
        "\n",
        "def create_model():\n",
        "    model = Sequential([\n",
        "    InputLayer(input_shape=(FRAME_NUM,X_train.shape[-1])),\n",
        "    Dropout(0.2),\n",
        "    LSTM(160, return_sequences=True, activation='relu', input_shape=[FRAME_NUM, X_train.shape[-1]]),\n",
        "    Dropout(0.5),\n",
        "    LSTM(120, return_sequences=False, activation='relu'),\n",
        "    Dropout(0.5),\n",
        "    Dense(100, activation='relu'),\n",
        "    Dense(y_train.shape[1], activation='softmax')\n",
        "    ])\n",
        "\n",
        "    return model\n",
        "\n",
        "with tpu_strategy.scope():\n",
        "    model = create_model()\n",
        "model.summary()\n"
      ]
    },
    {
      "cell_type": "code",
      "execution_count": null,
      "metadata": {
        "colab": {
          "base_uri": "https://localhost:8080/",
          "height": 1000
        },
        "id": "bD6-lAhPFwth",
        "outputId": "925b6e27-c984-4489-e1a5-5b03ccc79cd0"
      },
      "outputs": [
        {
          "output_type": "stream",
          "name": "stdout",
          "text": [
            "Epoch 1/250\n",
            "216/216 [==============================] - 16s 44ms/step - loss: 2.7717 - categorical_accuracy: 0.1963 - val_loss: 1.1924 - val_categorical_accuracy: 0.5979\n",
            "Epoch 2/250\n",
            "216/216 [==============================] - 5s 22ms/step - loss: 1.4246 - categorical_accuracy: 0.4856 - val_loss: 0.7869 - val_categorical_accuracy: 0.6886\n",
            "Epoch 3/250\n",
            "216/216 [==============================] - 5s 21ms/step - loss: 1.1776 - categorical_accuracy: 0.5656 - val_loss: 0.6973 - val_categorical_accuracy: 0.7149\n",
            "Epoch 4/250\n",
            "216/216 [==============================] - 5s 23ms/step - loss: 1.0385 - categorical_accuracy: 0.6207 - val_loss: 0.5547 - val_categorical_accuracy: 0.8306\n",
            "Epoch 5/250\n",
            "216/216 [==============================] - 5s 22ms/step - loss: 0.9203 - categorical_accuracy: 0.6657 - val_loss: 0.5668 - val_categorical_accuracy: 0.8034\n",
            "Epoch 6/250\n",
            "216/216 [==============================] - 5s 21ms/step - loss: 0.8564 - categorical_accuracy: 0.6931 - val_loss: 0.4963 - val_categorical_accuracy: 0.8588\n",
            "Epoch 7/250\n",
            "216/216 [==============================] - 5s 25ms/step - loss: 0.7522 - categorical_accuracy: 0.7319 - val_loss: 0.3391 - val_categorical_accuracy: 0.8883\n",
            "Epoch 8/250\n",
            "216/216 [==============================] - 5s 24ms/step - loss: 0.6808 - categorical_accuracy: 0.7575 - val_loss: 0.3685 - val_categorical_accuracy: 0.8678\n",
            "Epoch 9/250\n",
            "216/216 [==============================] - 5s 22ms/step - loss: 0.6156 - categorical_accuracy: 0.7832 - val_loss: 0.4056 - val_categorical_accuracy: 0.8709\n",
            "Epoch 10/250\n",
            "216/216 [==============================] - 5s 22ms/step - loss: 0.5640 - categorical_accuracy: 0.8013 - val_loss: 0.4874 - val_categorical_accuracy: 0.8281\n",
            "Epoch 11/250\n",
            "216/216 [==============================] - 5s 25ms/step - loss: 0.5173 - categorical_accuracy: 0.8194 - val_loss: 0.4032 - val_categorical_accuracy: 0.8630\n",
            "Epoch 12/250\n",
            "216/216 [==============================] - 4s 21ms/step - loss: 0.4726 - categorical_accuracy: 0.8340 - val_loss: 0.3007 - val_categorical_accuracy: 0.9024\n",
            "Epoch 13/250\n",
            "216/216 [==============================] - 4s 21ms/step - loss: 0.4543 - categorical_accuracy: 0.8413 - val_loss: 0.4613 - val_categorical_accuracy: 0.8552\n",
            "Epoch 14/250\n",
            "216/216 [==============================] - 5s 24ms/step - loss: 0.3935 - categorical_accuracy: 0.8638 - val_loss: 0.3333 - val_categorical_accuracy: 0.8657\n",
            "Epoch 15/250\n",
            "216/216 [==============================] - 5s 21ms/step - loss: 0.3787 - categorical_accuracy: 0.8686 - val_loss: 0.1873 - val_categorical_accuracy: 0.9406\n",
            "Epoch 16/250\n",
            "216/216 [==============================] - 4s 20ms/step - loss: 0.3379 - categorical_accuracy: 0.8829 - val_loss: 0.2904 - val_categorical_accuracy: 0.8918\n",
            "Epoch 17/250\n",
            "216/216 [==============================] - 5s 22ms/step - loss: 0.3314 - categorical_accuracy: 0.8872 - val_loss: 0.2673 - val_categorical_accuracy: 0.9075\n",
            "Epoch 18/250\n",
            "216/216 [==============================] - 5s 22ms/step - loss: 0.3147 - categorical_accuracy: 0.8895 - val_loss: 0.2753 - val_categorical_accuracy: 0.9155\n",
            "Epoch 19/250\n",
            "216/216 [==============================] - 4s 20ms/step - loss: 0.2906 - categorical_accuracy: 0.8992 - val_loss: 0.2335 - val_categorical_accuracy: 0.9131\n",
            "Epoch 20/250\n",
            "216/216 [==============================] - 4s 20ms/step - loss: 0.2846 - categorical_accuracy: 0.9044 - val_loss: 0.3458 - val_categorical_accuracy: 0.8635\n",
            "Epoch 21/250\n",
            "216/216 [==============================] - 5s 24ms/step - loss: 0.2611 - categorical_accuracy: 0.9104 - val_loss: 0.2996 - val_categorical_accuracy: 0.8824\n",
            "Epoch 22/250\n",
            "216/216 [==============================] - 4s 20ms/step - loss: 0.2386 - categorical_accuracy: 0.9191 - val_loss: 0.3295 - val_categorical_accuracy: 0.8751\n",
            "Epoch 23/250\n",
            "216/216 [==============================] - 4s 20ms/step - loss: 0.2546 - categorical_accuracy: 0.9139 - val_loss: 0.4522 - val_categorical_accuracy: 0.8453\n",
            "Epoch 24/250\n",
            "216/216 [==============================] - 5s 22ms/step - loss: 0.2255 - categorical_accuracy: 0.9229 - val_loss: 0.4504 - val_categorical_accuracy: 0.8569\n",
            "Epoch 25/250\n",
            "216/216 [==============================] - 4s 21ms/step - loss: 0.1967 - categorical_accuracy: 0.9319 - val_loss: 0.2303 - val_categorical_accuracy: 0.9062\n",
            "Epoch 26/250\n",
            "216/216 [==============================] - 4s 20ms/step - loss: 0.1902 - categorical_accuracy: 0.9367 - val_loss: 0.2866 - val_categorical_accuracy: 0.8845\n",
            "Epoch 27/250\n",
            "216/216 [==============================] - 5s 21ms/step - loss: 0.1849 - categorical_accuracy: 0.9385 - val_loss: 0.4232 - val_categorical_accuracy: 0.8407\n",
            "Epoch 28/250\n",
            "216/216 [==============================] - 5s 24ms/step - loss: 0.1917 - categorical_accuracy: 0.9352 - val_loss: 0.3500 - val_categorical_accuracy: 0.8863\n",
            "Epoch 29/250\n",
            "216/216 [==============================] - 4s 20ms/step - loss: 0.2078 - categorical_accuracy: 0.9300 - val_loss: 0.4517 - val_categorical_accuracy: 0.8425\n",
            "Epoch 30/250\n",
            "216/216 [==============================] - 4s 20ms/step - loss: 0.1714 - categorical_accuracy: 0.9425 - val_loss: 0.3172 - val_categorical_accuracy: 0.8841\n",
            "Epoch 31/250\n",
            "216/216 [==============================] - 6s 26ms/step - loss: 0.1749 - categorical_accuracy: 0.9421 - val_loss: 0.5029 - val_categorical_accuracy: 0.8504\n",
            "Epoch 32/250\n",
            "216/216 [==============================] - 4s 20ms/step - loss: 0.1633 - categorical_accuracy: 0.9463 - val_loss: 0.2895 - val_categorical_accuracy: 0.9008\n",
            "Epoch 33/250\n",
            "216/216 [==============================] - 4s 20ms/step - loss: 0.1593 - categorical_accuracy: 0.9481 - val_loss: 0.3453 - val_categorical_accuracy: 0.8708\n",
            "Epoch 34/250\n",
            "216/216 [==============================] - 5s 21ms/step - loss: 0.2194 - categorical_accuracy: 0.9336 - val_loss: 0.3346 - val_categorical_accuracy: 0.8895\n",
            "Epoch 35/250\n",
            "216/216 [==============================] - 5s 22ms/step - loss: 0.1377 - categorical_accuracy: 0.9543 - val_loss: 0.2627 - val_categorical_accuracy: 0.9072\n",
            "Epoch 36/250\n",
            "216/216 [==============================] - 4s 20ms/step - loss: 0.1322 - categorical_accuracy: 0.9552 - val_loss: 0.4877 - val_categorical_accuracy: 0.8462\n",
            "Epoch 37/250\n",
            "216/216 [==============================] - 4s 20ms/step - loss: 0.1190 - categorical_accuracy: 0.9616 - val_loss: 0.3706 - val_categorical_accuracy: 0.8895\n",
            "Epoch 38/250\n",
            "216/216 [==============================] - 5s 23ms/step - loss: 0.1289 - categorical_accuracy: 0.9566 - val_loss: 0.6755 - val_categorical_accuracy: 0.8080\n",
            "Epoch 39/250\n",
            "216/216 [==============================] - 4s 20ms/step - loss: 0.1371 - categorical_accuracy: 0.9539 - val_loss: 0.8952 - val_categorical_accuracy: 0.7552\n",
            "Epoch 40/250\n",
            "216/216 [==============================] - 4s 20ms/step - loss: 0.1180 - categorical_accuracy: 0.9624 - val_loss: 0.4830 - val_categorical_accuracy: 0.8526\n",
            "Epoch 41/250\n",
            "216/216 [==============================] - 5s 23ms/step - loss: 0.1030 - categorical_accuracy: 0.9659 - val_loss: 0.4839 - val_categorical_accuracy: 0.8635\n",
            "Epoch 42/250\n",
            "216/216 [==============================] - 4s 21ms/step - loss: 0.1135 - categorical_accuracy: 0.9626 - val_loss: 0.7104 - val_categorical_accuracy: 0.8206\n",
            "Epoch 43/250\n",
            "216/216 [==============================] - 4s 20ms/step - loss: 0.1233 - categorical_accuracy: 0.9605 - val_loss: 0.7179 - val_categorical_accuracy: 0.8129\n",
            "Epoch 44/250\n",
            "216/216 [==============================] - 5s 22ms/step - loss: 0.1194 - categorical_accuracy: 0.9613 - val_loss: 0.7157 - val_categorical_accuracy: 0.7857\n",
            "Epoch 45/250\n",
            "216/216 [==============================] - 5s 22ms/step - loss: 0.1078 - categorical_accuracy: 0.9659 - val_loss: 0.4948 - val_categorical_accuracy: 0.8378\n",
            "Epoch 46/250\n",
            "216/216 [==============================] - 4s 20ms/step - loss: 0.1024 - categorical_accuracy: 0.9664 - val_loss: 0.5991 - val_categorical_accuracy: 0.8285\n",
            "Epoch 47/250\n",
            "216/216 [==============================] - 4s 21ms/step - loss: 0.1310 - categorical_accuracy: 0.9565 - val_loss: 0.5112 - val_categorical_accuracy: 0.8432\n",
            "Epoch 48/250\n",
            "216/216 [==============================] - 5s 23ms/step - loss: 0.0939 - categorical_accuracy: 0.9689 - val_loss: 0.5017 - val_categorical_accuracy: 0.8456\n",
            "Epoch 49/250\n",
            "216/216 [==============================] - 5s 21ms/step - loss: 0.0936 - categorical_accuracy: 0.9696 - val_loss: 0.6152 - val_categorical_accuracy: 0.8298\n",
            "Epoch 50/250\n",
            "216/216 [==============================] - 4s 20ms/step - loss: 0.0937 - categorical_accuracy: 0.9703 - val_loss: 0.3889 - val_categorical_accuracy: 0.8824\n",
            "Epoch 51/250\n",
            "216/216 [==============================] - 5s 23ms/step - loss: 0.0928 - categorical_accuracy: 0.9690 - val_loss: 0.8869 - val_categorical_accuracy: 0.7892\n",
            "Epoch 52/250\n",
            "216/216 [==============================] - 4s 19ms/step - loss: 0.1302 - categorical_accuracy: 0.9609 - val_loss: 0.4931 - val_categorical_accuracy: 0.8658\n",
            "Epoch 53/250\n",
            "216/216 [==============================] - 4s 19ms/step - loss: 0.0955 - categorical_accuracy: 0.9689 - val_loss: 0.6618 - val_categorical_accuracy: 0.8634\n",
            "Epoch 54/250\n",
            "216/216 [==============================] - 5s 22ms/step - loss: 0.0916 - categorical_accuracy: 0.9710 - val_loss: 0.3893 - val_categorical_accuracy: 0.8822\n",
            "Epoch 55/250\n",
            "216/216 [==============================] - 4s 20ms/step - loss: 0.0944 - categorical_accuracy: 0.9700 - val_loss: 0.9095 - val_categorical_accuracy: 0.7784\n",
            "Epoch 56/250\n",
            "216/216 [==============================] - 4s 20ms/step - loss: 0.0679 - categorical_accuracy: 0.9777 - val_loss: 0.4919 - val_categorical_accuracy: 0.8519\n",
            "Epoch 57/250\n",
            "216/216 [==============================] - 4s 20ms/step - loss: 0.0794 - categorical_accuracy: 0.9744 - val_loss: 0.8182 - val_categorical_accuracy: 0.7913\n",
            "Epoch 58/250\n",
            "216/216 [==============================] - 5s 23ms/step - loss: 0.0806 - categorical_accuracy: 0.9745 - val_loss: 0.4756 - val_categorical_accuracy: 0.8614\n",
            "Epoch 59/250\n",
            "216/216 [==============================] - 5s 21ms/step - loss: 0.0808 - categorical_accuracy: 0.9742 - val_loss: 0.2824 - val_categorical_accuracy: 0.9220\n",
            "Epoch 60/250\n",
            "216/216 [==============================] - 4s 20ms/step - loss: 0.0865 - categorical_accuracy: 0.9722 - val_loss: 0.8369 - val_categorical_accuracy: 0.8112\n",
            "Epoch 61/250\n",
            "216/216 [==============================] - 5s 24ms/step - loss: 0.0869 - categorical_accuracy: 0.9707 - val_loss: 1.4566 - val_categorical_accuracy: 0.7064\n",
            "Epoch 62/250\n",
            "216/216 [==============================] - 5s 21ms/step - loss: 0.0874 - categorical_accuracy: 0.9723 - val_loss: 0.4155 - val_categorical_accuracy: 0.8760\n",
            "Epoch 63/250\n",
            "216/216 [==============================] - 5s 21ms/step - loss: 0.0771 - categorical_accuracy: 0.9755 - val_loss: 0.9810 - val_categorical_accuracy: 0.7913\n",
            "Epoch 64/250\n",
            "216/216 [==============================] - 5s 23ms/step - loss: 0.1039 - categorical_accuracy: 0.9680 - val_loss: 0.6365 - val_categorical_accuracy: 0.8178\n",
            "Epoch 65/250\n",
            "216/216 [==============================] - 4s 21ms/step - loss: 0.0690 - categorical_accuracy: 0.9779 - val_loss: 0.4929 - val_categorical_accuracy: 0.8472\n",
            "Epoch 66/250\n",
            "216/216 [==============================] - 5s 21ms/step - loss: 0.0725 - categorical_accuracy: 0.9785 - val_loss: 0.6160 - val_categorical_accuracy: 0.7931\n",
            "Epoch 67/250\n",
            "216/216 [==============================] - 5s 23ms/step - loss: 0.0702 - categorical_accuracy: 0.9781 - val_loss: 0.3961 - val_categorical_accuracy: 0.8641\n",
            "Epoch 68/250\n",
            "216/216 [==============================] - 5s 24ms/step - loss: 0.0671 - categorical_accuracy: 0.9785 - val_loss: 0.7229 - val_categorical_accuracy: 0.8172\n",
            "Epoch 69/250\n",
            "216/216 [==============================] - 4s 20ms/step - loss: 0.0673 - categorical_accuracy: 0.9781 - val_loss: 0.3999 - val_categorical_accuracy: 0.8833\n",
            "Epoch 70/250\n",
            "216/216 [==============================] - 5s 22ms/step - loss: 0.0888 - categorical_accuracy: 0.9741 - val_loss: 0.2871 - val_categorical_accuracy: 0.9062\n",
            "Epoch 71/250\n",
            "216/216 [==============================] - 5s 22ms/step - loss: 0.0847 - categorical_accuracy: 0.9739 - val_loss: 0.2785 - val_categorical_accuracy: 0.9093\n",
            "Epoch 72/250\n",
            "216/216 [==============================] - 5s 21ms/step - loss: 0.0798 - categorical_accuracy: 0.9764 - val_loss: 0.2689 - val_categorical_accuracy: 0.9009\n",
            "Epoch 73/250\n",
            "216/216 [==============================] - 5s 21ms/step - loss: 0.0562 - categorical_accuracy: 0.9821 - val_loss: 0.7586 - val_categorical_accuracy: 0.8265\n",
            "Epoch 74/250\n",
            "216/216 [==============================] - 5s 23ms/step - loss: 0.0591 - categorical_accuracy: 0.9806 - val_loss: 0.4871 - val_categorical_accuracy: 0.8574\n",
            "Epoch 75/250\n",
            "216/216 [==============================] - 5s 21ms/step - loss: 0.0613 - categorical_accuracy: 0.9805 - val_loss: 0.7697 - val_categorical_accuracy: 0.8099\n",
            "Epoch 76/250\n",
            "216/216 [==============================] - 5s 22ms/step - loss: 0.0696 - categorical_accuracy: 0.9787 - val_loss: 0.4128 - val_categorical_accuracy: 0.8875\n",
            "Epoch 77/250\n",
            "216/216 [==============================] - 5s 23ms/step - loss: 0.0610 - categorical_accuracy: 0.9808 - val_loss: 0.3758 - val_categorical_accuracy: 0.8958\n",
            "Epoch 78/250\n",
            "216/216 [==============================] - 4s 20ms/step - loss: 0.0601 - categorical_accuracy: 0.9816 - val_loss: 0.4249 - val_categorical_accuracy: 0.8673\n",
            "Epoch 79/250\n",
            "216/216 [==============================] - 4s 20ms/step - loss: 0.0579 - categorical_accuracy: 0.9816 - val_loss: 1.1409 - val_categorical_accuracy: 0.7557\n",
            "Epoch 80/250\n",
            "216/216 [==============================] - 5s 22ms/step - loss: 0.0653 - categorical_accuracy: 0.9790 - val_loss: 0.6377 - val_categorical_accuracy: 0.8192\n",
            "Epoch 81/250\n",
            "216/216 [==============================] - 4s 21ms/step - loss: 0.0709 - categorical_accuracy: 0.9769 - val_loss: 0.6395 - val_categorical_accuracy: 0.8461\n",
            "Epoch 82/250\n",
            "216/216 [==============================] - 4s 21ms/step - loss: 0.0713 - categorical_accuracy: 0.9773 - val_loss: 0.1997 - val_categorical_accuracy: 0.9286\n",
            "Epoch 83/250\n",
            "216/216 [==============================] - 5s 21ms/step - loss: 0.0494 - categorical_accuracy: 0.9844 - val_loss: 0.2537 - val_categorical_accuracy: 0.9113\n",
            "Epoch 84/250\n",
            "216/216 [==============================] - 5s 22ms/step - loss: 0.0556 - categorical_accuracy: 0.9809 - val_loss: 0.5232 - val_categorical_accuracy: 0.8650\n",
            "Epoch 85/250\n",
            "216/216 [==============================] - 5s 21ms/step - loss: 0.0598 - categorical_accuracy: 0.9813 - val_loss: 0.3275 - val_categorical_accuracy: 0.8862\n",
            "Epoch 86/250\n",
            "216/216 [==============================] - 4s 21ms/step - loss: 0.0552 - categorical_accuracy: 0.9833 - val_loss: 0.4832 - val_categorical_accuracy: 0.8424\n",
            "Epoch 87/250\n",
            "216/216 [==============================] - 5s 23ms/step - loss: 0.0549 - categorical_accuracy: 0.9816 - val_loss: 0.7391 - val_categorical_accuracy: 0.7893\n",
            "Epoch 88/250\n",
            "216/216 [==============================] - 4s 20ms/step - loss: 0.0707 - categorical_accuracy: 0.9792 - val_loss: 1.1004 - val_categorical_accuracy: 0.7232\n",
            "Epoch 89/250\n",
            "216/216 [==============================] - 5s 23ms/step - loss: 0.0483 - categorical_accuracy: 0.9859 - val_loss: 0.6121 - val_categorical_accuracy: 0.8428\n",
            "Epoch 90/250\n",
            "216/216 [==============================] - 5s 23ms/step - loss: 0.0688 - categorical_accuracy: 0.9769 - val_loss: 0.7939 - val_categorical_accuracy: 0.8161\n",
            "Epoch 91/250\n",
            "216/216 [==============================] - 4s 21ms/step - loss: 0.0649 - categorical_accuracy: 0.9794 - val_loss: 0.7238 - val_categorical_accuracy: 0.8240\n",
            "Epoch 92/250\n",
            "216/216 [==============================] - 5s 21ms/step - loss: 0.0474 - categorical_accuracy: 0.9844 - val_loss: 0.7689 - val_categorical_accuracy: 0.8291\n",
            "Epoch 93/250\n",
            "216/216 [==============================] - 5s 22ms/step - loss: 0.0550 - categorical_accuracy: 0.9838 - val_loss: 1.5495 - val_categorical_accuracy: 0.6870\n",
            "Epoch 94/250\n",
            "216/216 [==============================] - 5s 21ms/step - loss: 0.0518 - categorical_accuracy: 0.9834 - val_loss: 0.5587 - val_categorical_accuracy: 0.8606\n",
            "Epoch 95/250\n",
            "216/216 [==============================] - 4s 20ms/step - loss: 0.0624 - categorical_accuracy: 0.9815 - val_loss: 0.8274 - val_categorical_accuracy: 0.8344\n",
            "Epoch 96/250\n",
            "216/216 [==============================] - 4s 20ms/step - loss: 0.0632 - categorical_accuracy: 0.9813 - val_loss: 0.9012 - val_categorical_accuracy: 0.8015\n",
            "Epoch 97/250\n",
            "216/216 [==============================] - 5s 22ms/step - loss: 0.0451 - categorical_accuracy: 0.9859 - val_loss: 0.5928 - val_categorical_accuracy: 0.8610\n",
            "Epoch 98/250\n",
            "216/216 [==============================] - 4s 20ms/step - loss: 0.0437 - categorical_accuracy: 0.9853 - val_loss: 0.4267 - val_categorical_accuracy: 0.8793\n",
            "Epoch 99/250\n",
            "216/216 [==============================] - 4s 20ms/step - loss: 0.0553 - categorical_accuracy: 0.9835 - val_loss: 0.2926 - val_categorical_accuracy: 0.9150\n",
            "Epoch 100/250\n",
            "216/216 [==============================] - 5s 23ms/step - loss: 0.0494 - categorical_accuracy: 0.9840 - val_loss: 0.5468 - val_categorical_accuracy: 0.8554\n",
            "Epoch 101/250\n",
            "216/216 [==============================] - 4s 20ms/step - loss: 0.0496 - categorical_accuracy: 0.9853 - val_loss: 0.2930 - val_categorical_accuracy: 0.9151\n",
            "Epoch 102/250\n",
            "216/216 [==============================] - 4s 20ms/step - loss: 0.0566 - categorical_accuracy: 0.9819 - val_loss: 0.6644 - val_categorical_accuracy: 0.8150\n",
            "Epoch 103/250\n",
            "216/216 [==============================] - 5s 22ms/step - loss: 0.0511 - categorical_accuracy: 0.9845 - val_loss: 0.3544 - val_categorical_accuracy: 0.8817\n",
            "Epoch 104/250\n",
            "216/216 [==============================] - 5s 21ms/step - loss: 0.0485 - categorical_accuracy: 0.9842 - val_loss: 0.8399 - val_categorical_accuracy: 0.7721\n",
            "Epoch 105/250\n",
            "216/216 [==============================] - 4s 20ms/step - loss: 0.0401 - categorical_accuracy: 0.9880 - val_loss: 0.2928 - val_categorical_accuracy: 0.9086\n",
            "Epoch 106/250\n",
            "216/216 [==============================] - 5s 21ms/step - loss: 0.0468 - categorical_accuracy: 0.9851 - val_loss: 0.7236 - val_categorical_accuracy: 0.8417\n",
            "Epoch 107/250\n",
            "216/216 [==============================] - 5s 25ms/step - loss: 0.0494 - categorical_accuracy: 0.9850 - val_loss: 0.2923 - val_categorical_accuracy: 0.9109\n",
            "Epoch 108/250\n",
            "216/216 [==============================] - 4s 20ms/step - loss: 0.0689 - categorical_accuracy: 0.9780 - val_loss: 0.6836 - val_categorical_accuracy: 0.8298\n",
            "Epoch 109/250\n",
            "216/216 [==============================] - 4s 20ms/step - loss: 0.0556 - categorical_accuracy: 0.9822 - val_loss: 0.2764 - val_categorical_accuracy: 0.9188\n",
            "Epoch 110/250\n",
            "216/216 [==============================] - 5s 23ms/step - loss: 0.0584 - categorical_accuracy: 0.9818 - val_loss: 0.3748 - val_categorical_accuracy: 0.8777\n",
            "Epoch 111/250\n",
            "216/216 [==============================] - 4s 21ms/step - loss: 0.0429 - categorical_accuracy: 0.9861 - val_loss: 0.2679 - val_categorical_accuracy: 0.9192\n",
            "Epoch 112/250\n",
            "216/216 [==============================] - 4s 21ms/step - loss: 0.0401 - categorical_accuracy: 0.9878 - val_loss: 0.3934 - val_categorical_accuracy: 0.8813\n",
            "Epoch 113/250\n",
            "216/216 [==============================] - 5s 23ms/step - loss: 0.0470 - categorical_accuracy: 0.9864 - val_loss: 0.7209 - val_categorical_accuracy: 0.8511\n",
            "Epoch 114/250\n",
            "216/216 [==============================] - 4s 20ms/step - loss: 0.0378 - categorical_accuracy: 0.9869 - val_loss: 0.4535 - val_categorical_accuracy: 0.8784\n",
            "Epoch 115/250\n",
            "216/216 [==============================] - 4s 21ms/step - loss: 0.0476 - categorical_accuracy: 0.9847 - val_loss: 0.5580 - val_categorical_accuracy: 0.8586\n",
            "Epoch 116/250\n",
            "216/216 [==============================] - 5s 21ms/step - loss: 0.0594 - categorical_accuracy: 0.9825 - val_loss: 0.4247 - val_categorical_accuracy: 0.8772\n",
            "Epoch 117/250\n",
            "216/216 [==============================] - 5s 22ms/step - loss: 0.0580 - categorical_accuracy: 0.9817 - val_loss: 1.0634 - val_categorical_accuracy: 0.7465\n",
            "Epoch 118/250\n",
            "216/216 [==============================] - 4s 21ms/step - loss: 0.0469 - categorical_accuracy: 0.9856 - val_loss: 0.3706 - val_categorical_accuracy: 0.8960\n",
            "Epoch 119/250\n",
            "216/216 [==============================] - 5s 21ms/step - loss: 0.0428 - categorical_accuracy: 0.9863 - val_loss: 0.5197 - val_categorical_accuracy: 0.8655\n",
            "Epoch 120/250\n",
            "216/216 [==============================] - 5s 23ms/step - loss: 0.0431 - categorical_accuracy: 0.9874 - val_loss: 0.3372 - val_categorical_accuracy: 0.8900\n",
            "Epoch 121/250\n",
            "216/216 [==============================] - 4s 20ms/step - loss: 0.0378 - categorical_accuracy: 0.9883 - val_loss: 0.7221 - val_categorical_accuracy: 0.8473\n",
            "Epoch 122/250\n",
            "216/216 [==============================] - 4s 20ms/step - loss: 0.0430 - categorical_accuracy: 0.9857 - val_loss: 0.4502 - val_categorical_accuracy: 0.8784\n",
            "Epoch 123/250\n",
            "216/216 [==============================] - 5s 22ms/step - loss: 0.0523 - categorical_accuracy: 0.9850 - val_loss: 0.4674 - val_categorical_accuracy: 0.8756\n",
            "Epoch 124/250\n",
            "216/216 [==============================] - 5s 21ms/step - loss: 0.0461 - categorical_accuracy: 0.9863 - val_loss: 0.3453 - val_categorical_accuracy: 0.9026\n",
            "Epoch 125/250\n",
            "216/216 [==============================] - 4s 20ms/step - loss: 0.0453 - categorical_accuracy: 0.9859 - val_loss: 0.4450 - val_categorical_accuracy: 0.8791\n",
            "Epoch 126/250\n",
            "216/216 [==============================] - 5s 22ms/step - loss: 0.0371 - categorical_accuracy: 0.9885 - val_loss: 0.2847 - val_categorical_accuracy: 0.9133\n",
            "Epoch 127/250\n",
            "216/216 [==============================] - 5s 22ms/step - loss: 0.0407 - categorical_accuracy: 0.9888 - val_loss: 0.2561 - val_categorical_accuracy: 0.9237\n",
            "Epoch 128/250\n",
            "216/216 [==============================] - 5s 23ms/step - loss: 0.0421 - categorical_accuracy: 0.9867 - val_loss: 0.7895 - val_categorical_accuracy: 0.7901\n",
            "Epoch 129/250\n",
            "216/216 [==============================] - 5s 21ms/step - loss: 0.0449 - categorical_accuracy: 0.9861 - val_loss: 0.4600 - val_categorical_accuracy: 0.8650\n",
            "Epoch 130/250\n",
            "216/216 [==============================] - 5s 23ms/step - loss: 0.0393 - categorical_accuracy: 0.9878 - val_loss: 0.3292 - val_categorical_accuracy: 0.9053\n",
            "Epoch 131/250\n",
            "216/216 [==============================] - 4s 20ms/step - loss: 0.0421 - categorical_accuracy: 0.9872 - val_loss: 0.3133 - val_categorical_accuracy: 0.9108\n",
            "Epoch 132/250\n",
            "216/216 [==============================] - 4s 20ms/step - loss: 0.0397 - categorical_accuracy: 0.9882 - val_loss: 0.1503 - val_categorical_accuracy: 0.9438\n",
            "Epoch 133/250\n",
            "216/216 [==============================] - 5s 23ms/step - loss: 0.0402 - categorical_accuracy: 0.9873 - val_loss: 0.5593 - val_categorical_accuracy: 0.8666\n",
            "Epoch 134/250\n",
            "216/216 [==============================] - 4s 21ms/step - loss: 0.0428 - categorical_accuracy: 0.9857 - val_loss: 0.5133 - val_categorical_accuracy: 0.8596\n",
            "Epoch 135/250\n",
            "216/216 [==============================] - 4s 21ms/step - loss: 0.0360 - categorical_accuracy: 0.9890 - val_loss: 0.2114 - val_categorical_accuracy: 0.9268\n",
            "Epoch 136/250\n",
            "216/216 [==============================] - 5s 22ms/step - loss: 0.0380 - categorical_accuracy: 0.9875 - val_loss: 0.1486 - val_categorical_accuracy: 0.9381\n",
            "Epoch 137/250\n",
            "216/216 [==============================] - 4s 21ms/step - loss: 0.0384 - categorical_accuracy: 0.9879 - val_loss: 0.3907 - val_categorical_accuracy: 0.8821\n",
            "Epoch 138/250\n",
            "216/216 [==============================] - 4s 20ms/step - loss: 0.0406 - categorical_accuracy: 0.9869 - val_loss: 0.2810 - val_categorical_accuracy: 0.9157\n",
            "Epoch 139/250\n",
            "216/216 [==============================] - 5s 21ms/step - loss: 0.0466 - categorical_accuracy: 0.9846 - val_loss: 0.2700 - val_categorical_accuracy: 0.9034\n",
            "Epoch 140/250\n",
            "216/216 [==============================] - 5s 23ms/step - loss: 0.0379 - categorical_accuracy: 0.9880 - val_loss: 0.2525 - val_categorical_accuracy: 0.9406\n",
            "Epoch 141/250\n",
            "216/216 [==============================] - 5s 21ms/step - loss: 0.0414 - categorical_accuracy: 0.9863 - val_loss: 0.2692 - val_categorical_accuracy: 0.9122\n",
            "Epoch 142/250\n",
            "216/216 [==============================] - 5s 22ms/step - loss: 0.0642 - categorical_accuracy: 0.9809 - val_loss: 0.9771 - val_categorical_accuracy: 0.7480\n",
            "Epoch 143/250\n",
            "216/216 [==============================] - 5s 24ms/step - loss: 0.0404 - categorical_accuracy: 0.9870 - val_loss: 0.3955 - val_categorical_accuracy: 0.8828\n",
            "Epoch 144/250\n",
            "216/216 [==============================] - 5s 21ms/step - loss: 0.0583 - categorical_accuracy: 0.9823 - val_loss: 0.3355 - val_categorical_accuracy: 0.8954\n",
            "Epoch 145/250\n",
            "216/216 [==============================] - 4s 20ms/step - loss: 0.0373 - categorical_accuracy: 0.9884 - val_loss: 0.2778 - val_categorical_accuracy: 0.9107\n",
            "Epoch 146/250\n",
            "216/216 [==============================] - 5s 24ms/step - loss: 0.0340 - categorical_accuracy: 0.9897 - val_loss: 0.3919 - val_categorical_accuracy: 0.8772\n",
            "Epoch 147/250\n",
            "216/216 [==============================] - 5s 21ms/step - loss: 0.0335 - categorical_accuracy: 0.9897 - val_loss: 0.4322 - val_categorical_accuracy: 0.8919\n",
            "Epoch 148/250\n",
            "216/216 [==============================] - 5s 21ms/step - loss: 0.0274 - categorical_accuracy: 0.9907 - val_loss: 1.5549 - val_categorical_accuracy: 0.7298\n",
            "Epoch 149/250\n",
            "216/216 [==============================] - 5s 23ms/step - loss: 0.0381 - categorical_accuracy: 0.9884 - val_loss: 0.1447 - val_categorical_accuracy: 0.9509\n",
            "Epoch 150/250\n",
            "216/216 [==============================] - 5s 21ms/step - loss: 0.0360 - categorical_accuracy: 0.9883 - val_loss: 0.2130 - val_categorical_accuracy: 0.9361\n",
            "Epoch 151/250\n",
            "216/216 [==============================] - 4s 20ms/step - loss: 0.0326 - categorical_accuracy: 0.9893 - val_loss: 0.3103 - val_categorical_accuracy: 0.9090\n",
            "Epoch 152/250\n",
            "216/216 [==============================] - 5s 24ms/step - loss: 0.0490 - categorical_accuracy: 0.9857 - val_loss: 0.2961 - val_categorical_accuracy: 0.9011\n",
            "Epoch 153/250\n",
            "216/216 [==============================] - 5s 21ms/step - loss: 0.0246 - categorical_accuracy: 0.9918 - val_loss: 0.1963 - val_categorical_accuracy: 0.9361\n",
            "Epoch 154/250\n",
            "216/216 [==============================] - 4s 21ms/step - loss: 0.0530 - categorical_accuracy: 0.9840 - val_loss: 0.2455 - val_categorical_accuracy: 0.9149\n",
            "Epoch 155/250\n",
            "216/216 [==============================] - 4s 21ms/step - loss: 0.0342 - categorical_accuracy: 0.9899 - val_loss: 0.2942 - val_categorical_accuracy: 0.9135\n",
            "Epoch 156/250\n",
            "216/216 [==============================] - 5s 23ms/step - loss: 0.0260 - categorical_accuracy: 0.9922 - val_loss: 0.5597 - val_categorical_accuracy: 0.8444\n",
            "Epoch 157/250\n",
            "216/216 [==============================] - 5s 21ms/step - loss: 0.0392 - categorical_accuracy: 0.9890 - val_loss: 0.4571 - val_categorical_accuracy: 0.8789\n",
            "Epoch 158/250\n",
            "216/216 [==============================] - 5s 21ms/step - loss: 0.0314 - categorical_accuracy: 0.9901 - val_loss: 0.3625 - val_categorical_accuracy: 0.9120\n",
            "Epoch 159/250\n",
            "216/216 [==============================] - 5s 24ms/step - loss: 0.0258 - categorical_accuracy: 0.9921 - val_loss: 0.4065 - val_categorical_accuracy: 0.8906\n",
            "Epoch 160/250\n",
            "216/216 [==============================] - 5s 21ms/step - loss: 0.0283 - categorical_accuracy: 0.9915 - val_loss: 0.2336 - val_categorical_accuracy: 0.9218\n",
            "Epoch 161/250\n",
            "216/216 [==============================] - 5s 21ms/step - loss: 0.0245 - categorical_accuracy: 0.9922 - val_loss: 0.3184 - val_categorical_accuracy: 0.8962\n",
            "Epoch 162/250\n",
            "216/216 [==============================] - 5s 23ms/step - loss: 0.0428 - categorical_accuracy: 0.9871 - val_loss: 0.3146 - val_categorical_accuracy: 0.8952\n",
            "Epoch 163/250\n",
            "216/216 [==============================] - 5s 21ms/step - loss: 0.0279 - categorical_accuracy: 0.9911 - val_loss: 0.2909 - val_categorical_accuracy: 0.9072\n",
            "Epoch 164/250\n",
            "216/216 [==============================] - 4s 21ms/step - loss: 0.0474 - categorical_accuracy: 0.9855 - val_loss: 0.2389 - val_categorical_accuracy: 0.9300\n",
            "Epoch 165/250\n",
            "216/216 [==============================] - 5s 22ms/step - loss: 0.0331 - categorical_accuracy: 0.9887 - val_loss: 0.2383 - val_categorical_accuracy: 0.9193\n",
            "Epoch 166/250\n",
            "216/216 [==============================] - 5s 21ms/step - loss: 0.0287 - categorical_accuracy: 0.9908 - val_loss: 0.3036 - val_categorical_accuracy: 0.9176\n",
            "Epoch 167/250\n",
            "216/216 [==============================] - 4s 21ms/step - loss: 0.0215 - categorical_accuracy: 0.9928 - val_loss: 0.3402 - val_categorical_accuracy: 0.9102\n",
            "Epoch 168/250\n",
            "216/216 [==============================] - 5s 21ms/step - loss: 0.0326 - categorical_accuracy: 0.9898 - val_loss: 0.1981 - val_categorical_accuracy: 0.9392\n",
            "Epoch 169/250\n",
            "216/216 [==============================] - 5s 23ms/step - loss: 0.0370 - categorical_accuracy: 0.9877 - val_loss: 0.2608 - val_categorical_accuracy: 0.9119\n",
            "Epoch 170/250\n",
            "216/216 [==============================] - 5s 21ms/step - loss: 0.0327 - categorical_accuracy: 0.9902 - val_loss: 0.4475 - val_categorical_accuracy: 0.8725\n",
            "Epoch 171/250\n",
            "216/216 [==============================] - 5s 21ms/step - loss: 0.0353 - categorical_accuracy: 0.9892 - val_loss: 0.2027 - val_categorical_accuracy: 0.9242\n",
            "Epoch 172/250\n",
            "216/216 [==============================] - 5s 23ms/step - loss: 0.0254 - categorical_accuracy: 0.9919 - val_loss: 0.1740 - val_categorical_accuracy: 0.9526\n",
            "Epoch 173/250\n",
            "216/216 [==============================] - 5s 23ms/step - loss: 0.0425 - categorical_accuracy: 0.9865 - val_loss: 0.2902 - val_categorical_accuracy: 0.9066\n",
            "Epoch 174/250\n",
            "216/216 [==============================] - 4s 20ms/step - loss: 0.0284 - categorical_accuracy: 0.9914 - val_loss: 0.0800 - val_categorical_accuracy: 0.9679\n",
            "Epoch 175/250\n",
            "216/216 [==============================] - 5s 22ms/step - loss: 0.0251 - categorical_accuracy: 0.9923 - val_loss: 0.3978 - val_categorical_accuracy: 0.8858\n",
            "Epoch 176/250\n",
            "216/216 [==============================] - 5s 21ms/step - loss: 0.0364 - categorical_accuracy: 0.9886 - val_loss: 0.2998 - val_categorical_accuracy: 0.8966\n",
            "Epoch 177/250\n",
            "216/216 [==============================] - 4s 20ms/step - loss: 0.0269 - categorical_accuracy: 0.9910 - val_loss: 0.4364 - val_categorical_accuracy: 0.8755\n",
            "Epoch 178/250\n",
            "216/216 [==============================] - 4s 21ms/step - loss: 0.0321 - categorical_accuracy: 0.9903 - val_loss: 0.2545 - val_categorical_accuracy: 0.9251\n",
            "Epoch 179/250\n",
            "216/216 [==============================] - 5s 22ms/step - loss: 0.0393 - categorical_accuracy: 0.9890 - val_loss: 0.3513 - val_categorical_accuracy: 0.8984\n",
            "Epoch 180/250\n",
            "216/216 [==============================] - 4s 21ms/step - loss: 0.0205 - categorical_accuracy: 0.9942 - val_loss: 0.3433 - val_categorical_accuracy: 0.9069\n",
            "Epoch 181/250\n",
            "216/216 [==============================] - 4s 20ms/step - loss: 0.0392 - categorical_accuracy: 0.9881 - val_loss: 0.3159 - val_categorical_accuracy: 0.9190\n",
            "Epoch 182/250\n",
            "216/216 [==============================] - 5s 23ms/step - loss: 0.0394 - categorical_accuracy: 0.9874 - val_loss: 0.1838 - val_categorical_accuracy: 0.9455\n",
            "Epoch 183/250\n",
            "216/216 [==============================] - 4s 20ms/step - loss: 0.0246 - categorical_accuracy: 0.9924 - val_loss: 0.1664 - val_categorical_accuracy: 0.9410\n",
            "Epoch 184/250\n",
            "216/216 [==============================] - 4s 20ms/step - loss: 0.0329 - categorical_accuracy: 0.9894 - val_loss: 0.2306 - val_categorical_accuracy: 0.9246\n",
            "Epoch 185/250\n",
            "216/216 [==============================] - 5s 22ms/step - loss: 0.0280 - categorical_accuracy: 0.9901 - val_loss: 0.2573 - val_categorical_accuracy: 0.9160\n",
            "Epoch 186/250\n",
            "216/216 [==============================] - 4s 21ms/step - loss: 0.0273 - categorical_accuracy: 0.9916 - val_loss: 0.4431 - val_categorical_accuracy: 0.8766\n",
            "Epoch 187/250\n",
            "216/216 [==============================] - 4s 20ms/step - loss: 0.0277 - categorical_accuracy: 0.9911 - val_loss: 0.1389 - val_categorical_accuracy: 0.9524\n",
            "Epoch 188/250\n",
            "216/216 [==============================] - 4s 21ms/step - loss: 0.0291 - categorical_accuracy: 0.9902 - val_loss: 0.0795 - val_categorical_accuracy: 0.9749\n",
            "Epoch 189/250\n",
            "216/216 [==============================] - 5s 22ms/step - loss: 0.0259 - categorical_accuracy: 0.9916 - val_loss: 0.1116 - val_categorical_accuracy: 0.9537\n",
            "Epoch 190/250\n",
            "216/216 [==============================] - 4s 20ms/step - loss: 0.0192 - categorical_accuracy: 0.9940 - val_loss: 0.2177 - val_categorical_accuracy: 0.9369\n",
            "Epoch 191/250\n",
            "216/216 [==============================] - 4s 20ms/step - loss: 0.0391 - categorical_accuracy: 0.9885 - val_loss: 0.5862 - val_categorical_accuracy: 0.8466\n",
            "Epoch 192/250\n",
            "216/216 [==============================] - 5s 23ms/step - loss: 0.0437 - categorical_accuracy: 0.9872 - val_loss: 0.1924 - val_categorical_accuracy: 0.9271\n",
            "Epoch 193/250\n",
            "216/216 [==============================] - 4s 20ms/step - loss: 0.0328 - categorical_accuracy: 0.9906 - val_loss: 0.2567 - val_categorical_accuracy: 0.9125\n",
            "Epoch 194/250\n",
            "216/216 [==============================] - 4s 21ms/step - loss: 0.0249 - categorical_accuracy: 0.9922 - val_loss: 0.4014 - val_categorical_accuracy: 0.8939\n",
            "Epoch 195/250\n",
            "216/216 [==============================] - 6s 26ms/step - loss: 0.0241 - categorical_accuracy: 0.9925 - val_loss: 0.3113 - val_categorical_accuracy: 0.9057\n",
            "Epoch 196/250\n",
            "216/216 [==============================] - 5s 25ms/step - loss: 0.0389 - categorical_accuracy: 0.9887 - val_loss: 0.1605 - val_categorical_accuracy: 0.9402\n",
            "Epoch 197/250\n",
            "216/216 [==============================] - 6s 27ms/step - loss: 0.0236 - categorical_accuracy: 0.9921 - val_loss: 0.3099 - val_categorical_accuracy: 0.9004\n",
            "Epoch 198/250\n",
            "216/216 [==============================] - 6s 26ms/step - loss: 0.0253 - categorical_accuracy: 0.9917 - val_loss: 0.2220 - val_categorical_accuracy: 0.9336\n",
            "Epoch 199/250\n",
            "216/216 [==============================] - 6s 26ms/step - loss: 0.0203 - categorical_accuracy: 0.9935 - val_loss: 0.1135 - val_categorical_accuracy: 0.9588\n",
            "Epoch 200/250\n",
            "216/216 [==============================] - 6s 26ms/step - loss: 0.0304 - categorical_accuracy: 0.9896 - val_loss: 0.0731 - val_categorical_accuracy: 0.9695\n",
            "Epoch 201/250\n",
            "216/216 [==============================] - 6s 28ms/step - loss: 0.0246 - categorical_accuracy: 0.9926 - val_loss: 0.2341 - val_categorical_accuracy: 0.9169\n",
            "Epoch 202/250\n",
            "216/216 [==============================] - 6s 26ms/step - loss: 0.0265 - categorical_accuracy: 0.9914 - val_loss: 0.0910 - val_categorical_accuracy: 0.9683\n",
            "Epoch 203/250\n",
            "216/216 [==============================] - 6s 28ms/step - loss: 0.0307 - categorical_accuracy: 0.9904 - val_loss: 0.2099 - val_categorical_accuracy: 0.9332\n",
            "Epoch 204/250\n",
            "216/216 [==============================] - 6s 28ms/step - loss: 0.0434 - categorical_accuracy: 0.9867 - val_loss: 0.5135 - val_categorical_accuracy: 0.8720\n",
            "Epoch 205/250\n",
            "216/216 [==============================] - 6s 28ms/step - loss: 0.0178 - categorical_accuracy: 0.9944 - val_loss: 0.1704 - val_categorical_accuracy: 0.9419\n",
            "Epoch 206/250\n",
            "216/216 [==============================] - 6s 29ms/step - loss: 0.0185 - categorical_accuracy: 0.9940 - val_loss: 0.8407 - val_categorical_accuracy: 0.8462\n",
            "Epoch 207/250\n",
            "216/216 [==============================] - 6s 26ms/step - loss: 0.0265 - categorical_accuracy: 0.9922 - val_loss: 0.1635 - val_categorical_accuracy: 0.9378\n",
            "Epoch 208/250\n",
            "216/216 [==============================] - 5s 24ms/step - loss: 0.0244 - categorical_accuracy: 0.9930 - val_loss: 0.3763 - val_categorical_accuracy: 0.8758\n",
            "Epoch 209/250\n",
            "216/216 [==============================] - 6s 26ms/step - loss: 0.0203 - categorical_accuracy: 0.9935 - val_loss: 0.1319 - val_categorical_accuracy: 0.9517\n",
            "Epoch 210/250\n",
            "216/216 [==============================] - 5s 24ms/step - loss: 0.0237 - categorical_accuracy: 0.9927 - val_loss: 0.1554 - val_categorical_accuracy: 0.9558\n",
            "Epoch 211/250\n",
            "216/216 [==============================] - 5s 24ms/step - loss: 0.0395 - categorical_accuracy: 0.9884 - val_loss: 0.2349 - val_categorical_accuracy: 0.9187\n",
            "Epoch 212/250\n",
            "216/216 [==============================] - 6s 26ms/step - loss: 0.0347 - categorical_accuracy: 0.9904 - val_loss: 0.1408 - val_categorical_accuracy: 0.9519\n",
            "Epoch 213/250\n",
            "216/216 [==============================] - 5s 25ms/step - loss: 0.0228 - categorical_accuracy: 0.9920 - val_loss: 0.0583 - val_categorical_accuracy: 0.9793\n",
            "Epoch 214/250\n",
            "216/216 [==============================] - 6s 26ms/step - loss: 0.0244 - categorical_accuracy: 0.9924 - val_loss: 0.4943 - val_categorical_accuracy: 0.8531\n",
            "Epoch 215/250\n",
            "216/216 [==============================] - 6s 28ms/step - loss: 0.0298 - categorical_accuracy: 0.9908 - val_loss: 0.0918 - val_categorical_accuracy: 0.9693\n",
            "Epoch 216/250\n",
            "216/216 [==============================] - 6s 28ms/step - loss: 0.0232 - categorical_accuracy: 0.9930 - val_loss: 0.1447 - val_categorical_accuracy: 0.9561\n",
            "Epoch 217/250\n",
            "216/216 [==============================] - 6s 27ms/step - loss: 0.0318 - categorical_accuracy: 0.9898 - val_loss: 0.2279 - val_categorical_accuracy: 0.9301\n",
            "Epoch 218/250\n",
            "216/216 [==============================] - 6s 27ms/step - loss: 0.0218 - categorical_accuracy: 0.9927 - val_loss: 0.0701 - val_categorical_accuracy: 0.9783\n",
            "Epoch 219/250\n",
            "216/216 [==============================] - 6s 25ms/step - loss: 0.0350 - categorical_accuracy: 0.9891 - val_loss: 0.1320 - val_categorical_accuracy: 0.9635\n",
            "Epoch 220/250\n",
            "216/216 [==============================] - 6s 28ms/step - loss: 0.0284 - categorical_accuracy: 0.9912 - val_loss: 0.3703 - val_categorical_accuracy: 0.9058\n",
            "Epoch 221/250\n",
            "216/216 [==============================] - 6s 27ms/step - loss: 0.0230 - categorical_accuracy: 0.9928 - val_loss: 0.6707 - val_categorical_accuracy: 0.8279\n",
            "Epoch 222/250\n",
            "216/216 [==============================] - 5s 25ms/step - loss: 0.0152 - categorical_accuracy: 0.9947 - val_loss: 0.3301 - val_categorical_accuracy: 0.9123\n",
            "Epoch 223/250\n",
            "216/216 [==============================] - 6s 29ms/step - loss: 0.0468 - categorical_accuracy: 0.9851 - val_loss: 0.1214 - val_categorical_accuracy: 0.9578\n",
            "Epoch 224/250\n",
            "216/216 [==============================] - 5s 24ms/step - loss: 0.0150 - categorical_accuracy: 0.9953 - val_loss: 0.5460 - val_categorical_accuracy: 0.8547\n",
            "Epoch 225/250\n",
            "216/216 [==============================] - 5s 25ms/step - loss: 0.0246 - categorical_accuracy: 0.9923 - val_loss: 0.1664 - val_categorical_accuracy: 0.9437\n",
            "Epoch 226/250\n",
            "216/216 [==============================] - 6s 26ms/step - loss: 0.0304 - categorical_accuracy: 0.9904 - val_loss: 0.2970 - val_categorical_accuracy: 0.9187\n",
            "Epoch 227/250\n",
            "216/216 [==============================] - 5s 24ms/step - loss: 0.0144 - categorical_accuracy: 0.9954 - val_loss: 0.3821 - val_categorical_accuracy: 0.9007\n",
            "Epoch 228/250\n",
            "216/216 [==============================] - 5s 25ms/step - loss: 0.0279 - categorical_accuracy: 0.9916 - val_loss: 0.2000 - val_categorical_accuracy: 0.9488\n",
            "Epoch 229/250\n",
            "216/216 [==============================] - 5s 25ms/step - loss: 0.0235 - categorical_accuracy: 0.9927 - val_loss: 0.2187 - val_categorical_accuracy: 0.9260\n",
            "Epoch 230/250\n",
            "216/216 [==============================] - 5s 24ms/step - loss: 0.0203 - categorical_accuracy: 0.9938 - val_loss: 0.1955 - val_categorical_accuracy: 0.9367\n",
            "Epoch 231/250\n",
            "216/216 [==============================] - 6s 26ms/step - loss: 0.0216 - categorical_accuracy: 0.9930 - val_loss: 0.3358 - val_categorical_accuracy: 0.9002\n",
            "Epoch 232/250\n",
            "216/216 [==============================] - 5s 25ms/step - loss: 0.0288 - categorical_accuracy: 0.9917 - val_loss: 0.1288 - val_categorical_accuracy: 0.9551\n",
            "Epoch 233/250\n",
            "216/216 [==============================] - 5s 24ms/step - loss: 0.0136 - categorical_accuracy: 0.9955 - val_loss: 0.0981 - val_categorical_accuracy: 0.9649\n",
            "Epoch 234/250\n",
            "216/216 [==============================] - 6s 27ms/step - loss: 0.0222 - categorical_accuracy: 0.9923 - val_loss: 0.3408 - val_categorical_accuracy: 0.9060\n",
            "Epoch 235/250\n",
            "216/216 [==============================] - 5s 25ms/step - loss: 0.0357 - categorical_accuracy: 0.9895 - val_loss: 0.2039 - val_categorical_accuracy: 0.9364\n",
            "Epoch 236/250\n",
            "216/216 [==============================] - 5s 24ms/step - loss: 0.0436 - categorical_accuracy: 0.9871 - val_loss: 0.2249 - val_categorical_accuracy: 0.9132\n",
            "Epoch 237/250\n",
            "216/216 [==============================] - 5s 25ms/step - loss: 0.0185 - categorical_accuracy: 0.9943 - val_loss: 0.1573 - val_categorical_accuracy: 0.9451\n",
            "Epoch 238/250\n",
            "216/216 [==============================] - 5s 23ms/step - loss: 0.0213 - categorical_accuracy: 0.9933 - val_loss: 0.1490 - val_categorical_accuracy: 0.9497\n",
            "Epoch 239/250\n",
            "216/216 [==============================] - 5s 24ms/step - loss: 0.0154 - categorical_accuracy: 0.9949 - val_loss: 0.0581 - val_categorical_accuracy: 0.9764\n",
            "Epoch 240/250\n",
            "216/216 [==============================] - 6s 26ms/step - loss: 0.0230 - categorical_accuracy: 0.9927 - val_loss: 0.0328 - val_categorical_accuracy: 0.9895\n",
            "Epoch 241/250\n",
            "216/216 [==============================] - 5s 25ms/step - loss: 0.0304 - categorical_accuracy: 0.9916 - val_loss: 0.0808 - val_categorical_accuracy: 0.9743\n",
            "Epoch 242/250\n",
            "216/216 [==============================] - 5s 24ms/step - loss: 0.0251 - categorical_accuracy: 0.9922 - val_loss: 0.3321 - val_categorical_accuracy: 0.9102\n",
            "Epoch 243/250\n",
            "216/216 [==============================] - 5s 25ms/step - loss: 0.0354 - categorical_accuracy: 0.9893 - val_loss: 0.1423 - val_categorical_accuracy: 0.9474\n",
            "Epoch 244/250\n",
            "216/216 [==============================] - 5s 25ms/step - loss: 0.0156 - categorical_accuracy: 0.9949 - val_loss: 0.1150 - val_categorical_accuracy: 0.9703\n",
            "Epoch 245/250\n",
            "216/216 [==============================] - 5s 25ms/step - loss: 0.0275 - categorical_accuracy: 0.9920 - val_loss: 0.1719 - val_categorical_accuracy: 0.9528\n",
            "Epoch 246/250\n",
            "216/216 [==============================] - 6s 25ms/step - loss: 0.0104 - categorical_accuracy: 0.9964 - val_loss: 0.0992 - val_categorical_accuracy: 0.9636\n",
            "Epoch 247/250\n",
            "216/216 [==============================] - 6s 27ms/step - loss: 0.0210 - categorical_accuracy: 0.9931 - val_loss: 0.1413 - val_categorical_accuracy: 0.9517\n",
            "Epoch 248/250\n",
            "216/216 [==============================] - 5s 25ms/step - loss: 0.0261 - categorical_accuracy: 0.9914 - val_loss: 0.1184 - val_categorical_accuracy: 0.9608\n",
            "Epoch 249/250\n",
            "216/216 [==============================] - 6s 27ms/step - loss: 0.0200 - categorical_accuracy: 0.9938 - val_loss: 0.2165 - val_categorical_accuracy: 0.9285\n",
            "Epoch 250/250\n",
            "216/216 [==============================] - 5s 24ms/step - loss: 0.0160 - categorical_accuracy: 0.9947 - val_loss: 0.4028 - val_categorical_accuracy: 0.8815\n",
            "Logging parameters\n",
            "logging optimizer\n",
            "logging loss\n",
            "logging metrics\n",
            "logging batch_size\n",
            "logging epochs\n",
            "logging aug_num\n",
            "logging aug_shift\n",
            "logging aug_rotate\n",
            "logging aug_scale\n",
            "logging jitter_amount\n",
            "logging frame_num\n",
            "Logging metrics\n",
            "logging loss\n",
            "logging categorical_accuracy\n",
            "logging val_loss\n",
            "logging val_categorical_accuracy\n"
          ]
        },
        {
          "output_type": "stream",
          "name": "stderr",
          "text": [
            "WARNING:matplotlib.mathtext:Font 'default' does not have a glyph for '\\u2212' [U+2212], substituting with a dummy symbol.\n",
            "WARNING:matplotlib.mathtext:Font 'default' does not have a glyph for '\\u2212' [U+2212], substituting with a dummy symbol.\n",
            "WARNING:matplotlib.mathtext:Font 'default' does not have a glyph for '\\u2212' [U+2212], substituting with a dummy symbol.\n",
            "WARNING:matplotlib.mathtext:Font 'default' does not have a glyph for '\\u2212' [U+2212], substituting with a dummy symbol.\n"
          ]
        },
        {
          "output_type": "stream",
          "name": "stdout",
          "text": [
            "Logging test eval data\n",
            "287/287 [==============================] - 4s 10ms/step\n",
            "Logging model\n"
          ]
        },
        {
          "output_type": "stream",
          "name": "stderr",
          "text": [
            "WARNING:matplotlib.mathtext:Font 'default' does not have a glyph for '\\u2212' [U+2212], substituting with a dummy symbol.\n",
            "WARNING:matplotlib.mathtext:Font 'default' does not have a glyph for '\\u2212' [U+2212], substituting with a dummy symbol.\n",
            "WARNING:matplotlib.mathtext:Font 'default' does not have a glyph for '\\u2212' [U+2212], substituting with a dummy symbol.\n",
            "WARNING:matplotlib.mathtext:Font 'default' does not have a glyph for '\\u2212' [U+2212], substituting with a dummy symbol.\n"
          ]
        },
        {
          "output_type": "display_data",
          "data": {
            "text/plain": [
              "<Figure size 640x480 with 1 Axes>"
            ],
            "image/png": "[encoded data removed]"
          },
          "metadata": {}
        },
        {
          "output_type": "display_data",
          "data": {
            "text/plain": [
              "<Figure size 2000x2000 with 2 Axes>"
            ],
            "image/png": "[encoded data removed]"
          },
          "metadata": {}
        }
      ],
      "source": [
        "\n",
        "# Compile hyperparameter\n",
        "compile_kwargs = {\n",
        "    \"optimizer\": 'Adam', \n",
        "    \"loss\": 'categorical_crossentropy',\n",
        "    \"metrics\": ['categorical_accuracy'],\n",
        "}\n",
        "\n",
        "# fit hyperparameter\n",
        "fit_kwargs = {\n",
        "    \"x\": X_train, \n",
        "    \"y\": y_train,\n",
        "    'batch_size': BATCH_SIZE,\n",
        "    \"epochs\": EPOCH,\n",
        "    \"validation_data\": (X_val, y_val)\n",
        "}\n",
        "\n",
        "optional_params = { \n",
        "    \"test_data\": (X_test, y_test),\n",
        "    \"aug_num\": AUG_NUM,\n",
        "    'aug_shift':SHIFT_VAL,\n",
        "    'aug_rotate':ROTATE_VAL,\n",
        "    'aug_scale': SCALE_VAL,\n",
        "    'jitter_amount': JITTER_AMOUNT,\n",
        "    \"frame_num\": FRAME_NUM,\n",
        "}\n",
        "\n",
        "run_name = f'double_LSTM_aug_{AUG_NUM}_frame_{FRAME_NUM}_e{EPOCH}_b{BATCH_SIZE}_2D'\n",
        "run = train_with_mlflow(run_name, model, compile_kwargs, fit_kwargs, optional_params)"
      ]
    },
    {
      "cell_type": "code",
      "execution_count": null,
      "metadata": {
        "id": "1j_egUhiIEhC"
      },
      "outputs": [],
      "source": []
    }
  ],
  "metadata": {
    "accelerator": "TPU",
    "colab": {
      "collapsed_sections": [
        "9fjlo1GF3auo"
      ],
      "provenance": [],
      "toc_visible": true
    },
    "gpuClass": "premium",
    "kernelspec": {
      "display_name": "Python 3",
      "name": "python3"
    },
    "language_info": {
      "codemirror_mode": {
        "name": "ipython",
        "version": 3
      },
      "file_extension": ".py",
      "mimetype": "text/x-python",
      "name": "python",
      "nbconvert_exporter": "python",
      "pygments_lexer": "ipython3",
      "version": "3.8.13"
    }
  },
  "nbformat": 4,
  "nbformat_minor": 0
}